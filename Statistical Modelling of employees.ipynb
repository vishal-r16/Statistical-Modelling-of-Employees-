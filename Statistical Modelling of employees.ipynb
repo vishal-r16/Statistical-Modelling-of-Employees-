{
 "cells": [
  {
   "cell_type": "code",
   "execution_count": 1,
   "id": "75eae449",
   "metadata": {},
   "outputs": [],
   "source": [
    "import numpy as np\n",
    "import pandas as pd\n",
    "import matplotlib.pyplot as plt\n",
    "import seaborn as sns"
   ]
  },
  {
   "cell_type": "code",
   "execution_count": 2,
   "id": "34e5c8ea",
   "metadata": {},
   "outputs": [],
   "source": [
    "df=pd.read_csv(\"Salary_Dataset_with_Extra_Features.csv\")"
   ]
  },
  {
   "cell_type": "code",
   "execution_count": 3,
   "id": "03a654e9",
   "metadata": {},
   "outputs": [
    {
     "data": {
      "text/html": [
       "<div>\n",
       "<style scoped>\n",
       "    .dataframe tbody tr th:only-of-type {\n",
       "        vertical-align: middle;\n",
       "    }\n",
       "\n",
       "    .dataframe tbody tr th {\n",
       "        vertical-align: top;\n",
       "    }\n",
       "\n",
       "    .dataframe thead th {\n",
       "        text-align: right;\n",
       "    }\n",
       "</style>\n",
       "<table border=\"1\" class=\"dataframe\">\n",
       "  <thead>\n",
       "    <tr style=\"text-align: right;\">\n",
       "      <th></th>\n",
       "      <th>Rating</th>\n",
       "      <th>Company Name</th>\n",
       "      <th>Job Title</th>\n",
       "      <th>Salary</th>\n",
       "      <th>Salaries Reported</th>\n",
       "      <th>Location</th>\n",
       "      <th>Employment Status</th>\n",
       "      <th>Job Roles</th>\n",
       "    </tr>\n",
       "  </thead>\n",
       "  <tbody>\n",
       "    <tr>\n",
       "      <th>11998</th>\n",
       "      <td>4.3</td>\n",
       "      <td>yellow.ai</td>\n",
       "      <td>Software Development Engineer - Intern</td>\n",
       "      <td>120000</td>\n",
       "      <td>2</td>\n",
       "      <td>Bangalore</td>\n",
       "      <td>Intern</td>\n",
       "      <td>SDE</td>\n",
       "    </tr>\n",
       "    <tr>\n",
       "      <th>8903</th>\n",
       "      <td>4.2</td>\n",
       "      <td>Udemy</td>\n",
       "      <td>Java Developer</td>\n",
       "      <td>300000</td>\n",
       "      <td>1</td>\n",
       "      <td>Chennai</td>\n",
       "      <td>Full Time</td>\n",
       "      <td>Java</td>\n",
       "    </tr>\n",
       "    <tr>\n",
       "      <th>10766</th>\n",
       "      <td>4.0</td>\n",
       "      <td>Mind(India)</td>\n",
       "      <td>Mobile Applications Developer</td>\n",
       "      <td>1056000</td>\n",
       "      <td>1</td>\n",
       "      <td>Bangalore</td>\n",
       "      <td>Full Time</td>\n",
       "      <td>Mobile</td>\n",
       "    </tr>\n",
       "    <tr>\n",
       "      <th>10931</th>\n",
       "      <td>3.9</td>\n",
       "      <td>Brisa Technologies</td>\n",
       "      <td>Python Developer - Intern</td>\n",
       "      <td>132000</td>\n",
       "      <td>2</td>\n",
       "      <td>Bangalore</td>\n",
       "      <td>Intern</td>\n",
       "      <td>Python</td>\n",
       "    </tr>\n",
       "    <tr>\n",
       "      <th>15252</th>\n",
       "      <td>4.1</td>\n",
       "      <td>Fresher</td>\n",
       "      <td>Software Development Engineer (SDE) - Intern</td>\n",
       "      <td>400000</td>\n",
       "      <td>1</td>\n",
       "      <td>Hyderabad</td>\n",
       "      <td>Intern</td>\n",
       "      <td>SDE</td>\n",
       "    </tr>\n",
       "  </tbody>\n",
       "</table>\n",
       "</div>"
      ],
      "text/plain": [
       "       Rating        Company Name  \\\n",
       "11998     4.3           yellow.ai   \n",
       "8903      4.2               Udemy   \n",
       "10766     4.0         Mind(India)   \n",
       "10931     3.9  Brisa Technologies   \n",
       "15252     4.1             Fresher   \n",
       "\n",
       "                                          Job Title   Salary  \\\n",
       "11998        Software Development Engineer - Intern   120000   \n",
       "8903                                 Java Developer   300000   \n",
       "10766                 Mobile Applications Developer  1056000   \n",
       "10931                     Python Developer - Intern   132000   \n",
       "15252  Software Development Engineer (SDE) - Intern   400000   \n",
       "\n",
       "       Salaries Reported   Location Employment Status Job Roles  \n",
       "11998                  2  Bangalore            Intern       SDE  \n",
       "8903                   1    Chennai         Full Time      Java  \n",
       "10766                  1  Bangalore         Full Time    Mobile  \n",
       "10931                  2  Bangalore            Intern    Python  \n",
       "15252                  1  Hyderabad            Intern       SDE  "
      ]
     },
     "execution_count": 3,
     "metadata": {},
     "output_type": "execute_result"
    }
   ],
   "source": [
    "df.sample(5)"
   ]
  },
  {
   "cell_type": "code",
   "execution_count": 4,
   "id": "a781875f",
   "metadata": {},
   "outputs": [
    {
     "data": {
      "text/plain": [
       "(22770, 8)"
      ]
     },
     "execution_count": 4,
     "metadata": {},
     "output_type": "execute_result"
    }
   ],
   "source": [
    "df.shape"
   ]
  },
  {
   "cell_type": "code",
   "execution_count": 5,
   "id": "f7d6f853",
   "metadata": {},
   "outputs": [
    {
     "data": {
      "text/plain": [
       "Rating               0\n",
       "Company Name         0\n",
       "Job Title            0\n",
       "Salary               0\n",
       "Salaries Reported    0\n",
       "Location             0\n",
       "Employment Status    0\n",
       "Job Roles            0\n",
       "dtype: int64"
      ]
     },
     "execution_count": 5,
     "metadata": {},
     "output_type": "execute_result"
    }
   ],
   "source": [
    "df.isnull().sum()"
   ]
  },
  {
   "cell_type": "code",
   "execution_count": 6,
   "id": "75fc5bc7",
   "metadata": {},
   "outputs": [
    {
     "data": {
      "text/plain": [
       "Rating               float64\n",
       "Company Name          object\n",
       "Job Title             object\n",
       "Salary                 int64\n",
       "Salaries Reported      int64\n",
       "Location              object\n",
       "Employment Status     object\n",
       "Job Roles             object\n",
       "dtype: object"
      ]
     },
     "execution_count": 6,
     "metadata": {},
     "output_type": "execute_result"
    }
   ],
   "source": [
    "df.dtypes"
   ]
  },
  {
   "cell_type": "code",
   "execution_count": 7,
   "id": "24b71384",
   "metadata": {},
   "outputs": [
    {
     "data": {
      "text/plain": [
       "Tata Consultancy Services         271\n",
       "Amazon                            184\n",
       "Infosys                           169\n",
       "Accenture                         150\n",
       "Cognizant Technology Solutions    144\n",
       "                                 ... \n",
       "Talent Anywhere                     1\n",
       "WisdmLabs                           1\n",
       "Softdel                             1\n",
       "Dentsu                              1\n",
       "Nextgen Innovation Labs             1\n",
       "Name: Company Name, Length: 11261, dtype: int64"
      ]
     },
     "execution_count": 7,
     "metadata": {},
     "output_type": "execute_result"
    }
   ],
   "source": [
    "df['Company Name'].value_counts()"
   ]
  },
  {
   "cell_type": "markdown",
   "id": "dd670c5e",
   "metadata": {},
   "source": [
    "Data cleaning"
   ]
  },
  {
   "cell_type": "code",
   "execution_count": 8,
   "id": "e1c8e372",
   "metadata": {},
   "outputs": [],
   "source": [
    "df['Company Name']=df['Company Name'].str.replace('Tata Consultancy Services','TCS')\n",
    "df['Company Name']=df['Company Name'].apply(lambda x:'Amazon' if \"Amazon\" in x else x)\n",
    "df['Company Name']=df['Company Name'].apply(lambda x:'Infosys' if \"Infosys\" in x else x)\n",
    "df['Company Name']=df['Company Name'].apply(lambda x:'HCL' if \"HCL\" in x else x)\n",
    "df['Company Name']=df['Company Name'].apply(lambda x:'IBM' if \"IBM\" in x else x)\n",
    "df['Company Name']=df['Company Name'].apply(lambda x:'Cognizant' if \"Cognizant\" in x else x)\n",
    "df['Company Name']=df['Company Name'].apply(lambda x:'Google' if \"Google\" in x else x)\n",
    "df['Company Name']=df['Company Name'].apply(lambda x:'Accenture' if \"Accenture\" in x else x)"
   ]
  },
  {
   "cell_type": "code",
   "execution_count": 9,
   "id": "b7fb9ae3",
   "metadata": {},
   "outputs": [],
   "source": [
    "#now will remove the outliers\n",
    "df=df[df['Company Name']!=\"(no)name\"]\n",
    "df=df[~df['Company Name'].isin(['-','....','Fresher'])]"
   ]
  },
  {
   "cell_type": "code",
   "execution_count": 10,
   "id": "a931d7d6",
   "metadata": {},
   "outputs": [],
   "source": [
    "#removing companies names that contain only number\n",
    "fdi=[]\n",
    "for name in df['Company Name']:\n",
    "    if name.isnumeric():\n",
    "        fdi.append(name)\n",
    "        \n",
    "fdi=np.unique(fdi)"
   ]
  },
  {
   "cell_type": "code",
   "execution_count": 11,
   "id": "6ae6d3d7",
   "metadata": {},
   "outputs": [
    {
     "data": {
      "text/plain": [
       "array(['10', '17544', '1985', '2018', '660000', '700'], dtype='<U6')"
      ]
     },
     "execution_count": 11,
     "metadata": {},
     "output_type": "execute_result"
    }
   ],
   "source": [
    "fdi"
   ]
  },
  {
   "cell_type": "code",
   "execution_count": 12,
   "id": "7ad91ecf",
   "metadata": {},
   "outputs": [],
   "source": [
    "df=df[~df['Company Name'].isin(fdi)]"
   ]
  },
  {
   "cell_type": "markdown",
   "id": "01079f50",
   "metadata": {},
   "source": [
    "UNIVARIATE ANALYSIS"
   ]
  },
  {
   "cell_type": "code",
   "execution_count": 13,
   "id": "dbfd9ded",
   "metadata": {},
   "outputs": [
    {
     "data": {
      "text/html": [
       "<div>\n",
       "<style scoped>\n",
       "    .dataframe tbody tr th:only-of-type {\n",
       "        vertical-align: middle;\n",
       "    }\n",
       "\n",
       "    .dataframe tbody tr th {\n",
       "        vertical-align: top;\n",
       "    }\n",
       "\n",
       "    .dataframe thead th {\n",
       "        text-align: right;\n",
       "    }\n",
       "</style>\n",
       "<table border=\"1\" class=\"dataframe\">\n",
       "  <thead>\n",
       "    <tr style=\"text-align: right;\">\n",
       "      <th></th>\n",
       "      <th>Company Name</th>\n",
       "      <th>Count</th>\n",
       "    </tr>\n",
       "  </thead>\n",
       "  <tbody>\n",
       "    <tr>\n",
       "      <th>0</th>\n",
       "      <td>TCS</td>\n",
       "      <td>313</td>\n",
       "    </tr>\n",
       "    <tr>\n",
       "      <th>1</th>\n",
       "      <td>Infosys</td>\n",
       "      <td>208</td>\n",
       "    </tr>\n",
       "    <tr>\n",
       "      <th>2</th>\n",
       "      <td>Amazon</td>\n",
       "      <td>203</td>\n",
       "    </tr>\n",
       "    <tr>\n",
       "      <th>3</th>\n",
       "      <td>Cognizant</td>\n",
       "      <td>159</td>\n",
       "    </tr>\n",
       "    <tr>\n",
       "      <th>4</th>\n",
       "      <td>Accenture</td>\n",
       "      <td>152</td>\n",
       "    </tr>\n",
       "    <tr>\n",
       "      <th>5</th>\n",
       "      <td>IBM</td>\n",
       "      <td>135</td>\n",
       "    </tr>\n",
       "    <tr>\n",
       "      <th>6</th>\n",
       "      <td>HCL</td>\n",
       "      <td>132</td>\n",
       "    </tr>\n",
       "    <tr>\n",
       "      <th>7</th>\n",
       "      <td>Wipro</td>\n",
       "      <td>122</td>\n",
       "    </tr>\n",
       "    <tr>\n",
       "      <th>8</th>\n",
       "      <td>Capgemini</td>\n",
       "      <td>101</td>\n",
       "    </tr>\n",
       "    <tr>\n",
       "      <th>9</th>\n",
       "      <td>Microsoft</td>\n",
       "      <td>96</td>\n",
       "    </tr>\n",
       "    <tr>\n",
       "      <th>10</th>\n",
       "      <td>Google</td>\n",
       "      <td>85</td>\n",
       "    </tr>\n",
       "  </tbody>\n",
       "</table>\n",
       "</div>"
      ],
      "text/plain": [
       "   Company Name  Count\n",
       "0           TCS    313\n",
       "1       Infosys    208\n",
       "2        Amazon    203\n",
       "3     Cognizant    159\n",
       "4     Accenture    152\n",
       "5           IBM    135\n",
       "6           HCL    132\n",
       "7         Wipro    122\n",
       "8     Capgemini    101\n",
       "9     Microsoft     96\n",
       "10       Google     85"
      ]
     },
     "execution_count": 13,
     "metadata": {},
     "output_type": "execute_result"
    }
   ],
   "source": [
    "de=df['Company Name'].value_counts()\n",
    "df1 = de.reset_index().head(11)\n",
    "df1.columns = ['Company Name', 'Count']\n",
    "\n",
    "df1"
   ]
  },
  {
   "cell_type": "code",
   "execution_count": 14,
   "id": "e3d61093",
   "metadata": {},
   "outputs": [
    {
     "data": {
      "text/plain": [
       "11208"
      ]
     },
     "execution_count": 14,
     "metadata": {},
     "output_type": "execute_result"
    }
   ],
   "source": [
    "len(df['Company Name'].unique())"
   ]
  },
  {
   "cell_type": "code",
   "execution_count": null,
   "id": "a673f50e",
   "metadata": {},
   "outputs": [],
   "source": []
  },
  {
   "cell_type": "code",
   "execution_count": 15,
   "id": "d5b10bc6",
   "metadata": {},
   "outputs": [
    {
     "data": {
      "text/plain": [
       "1076"
      ]
     },
     "execution_count": 15,
     "metadata": {},
     "output_type": "execute_result"
    }
   ],
   "source": [
    "len(df['Job Title'].unique())"
   ]
  },
  {
   "cell_type": "code",
   "execution_count": 105,
   "id": "db9fa5de",
   "metadata": {},
   "outputs": [
    {
     "data": {
      "text/html": [
       "<div>\n",
       "<style scoped>\n",
       "    .dataframe tbody tr th:only-of-type {\n",
       "        vertical-align: middle;\n",
       "    }\n",
       "\n",
       "    .dataframe tbody tr th {\n",
       "        vertical-align: top;\n",
       "    }\n",
       "\n",
       "    .dataframe thead th {\n",
       "        text-align: right;\n",
       "    }\n",
       "</style>\n",
       "<table border=\"1\" class=\"dataframe\">\n",
       "  <thead>\n",
       "    <tr style=\"text-align: right;\">\n",
       "      <th></th>\n",
       "      <th>Job Title</th>\n",
       "      <th>Count</th>\n",
       "    </tr>\n",
       "  </thead>\n",
       "  <tbody>\n",
       "    <tr>\n",
       "      <th>0</th>\n",
       "      <td>Software Development Engineer</td>\n",
       "      <td>2343</td>\n",
       "    </tr>\n",
       "    <tr>\n",
       "      <th>1</th>\n",
       "      <td>Android Developer</td>\n",
       "      <td>2027</td>\n",
       "    </tr>\n",
       "    <tr>\n",
       "      <th>2</th>\n",
       "      <td>Software Development Engineer (SDE)</td>\n",
       "      <td>1604</td>\n",
       "    </tr>\n",
       "    <tr>\n",
       "      <th>3</th>\n",
       "      <td>Front End Developer</td>\n",
       "      <td>1404</td>\n",
       "    </tr>\n",
       "    <tr>\n",
       "      <th>4</th>\n",
       "      <td>Test Engineer</td>\n",
       "      <td>1308</td>\n",
       "    </tr>\n",
       "  </tbody>\n",
       "</table>\n",
       "</div>"
      ],
      "text/plain": [
       "                             Job Title  Count\n",
       "0        Software Development Engineer   2343\n",
       "1                    Android Developer   2027\n",
       "2  Software Development Engineer (SDE)   1604\n",
       "3                  Front End Developer   1404\n",
       "4                        Test Engineer   1308"
      ]
     },
     "execution_count": 105,
     "metadata": {},
     "output_type": "execute_result"
    }
   ],
   "source": [
    "jb=df['Job Title'].value_counts()\n",
    "jb1=jb.reset_index().head()\n",
    "jb1.columns=['Job Title','Count']\n",
    "jb1"
   ]
  },
  {
   "cell_type": "code",
   "execution_count": 17,
   "id": "bab710d5",
   "metadata": {},
   "outputs": [
    {
     "data": {
      "text/plain": [
       "array(['Bangalore', 'Chennai', 'Hyderabad', 'New Delhi', 'Pune', 'Jaipur',\n",
       "       'Kerala', 'Kolkata', 'Madhya Pradesh', 'Mumbai'], dtype=object)"
      ]
     },
     "execution_count": 17,
     "metadata": {},
     "output_type": "execute_result"
    }
   ],
   "source": [
    "df['Location'].unique()"
   ]
  },
  {
   "cell_type": "code",
   "execution_count": 18,
   "id": "13e20413",
   "metadata": {},
   "outputs": [
    {
     "data": {
      "text/html": [
       "<div>\n",
       "<style scoped>\n",
       "    .dataframe tbody tr th:only-of-type {\n",
       "        vertical-align: middle;\n",
       "    }\n",
       "\n",
       "    .dataframe tbody tr th {\n",
       "        vertical-align: top;\n",
       "    }\n",
       "\n",
       "    .dataframe thead th {\n",
       "        text-align: right;\n",
       "    }\n",
       "</style>\n",
       "<table border=\"1\" class=\"dataframe\">\n",
       "  <thead>\n",
       "    <tr style=\"text-align: right;\">\n",
       "      <th></th>\n",
       "      <th>Location</th>\n",
       "      <th>Count</th>\n",
       "    </tr>\n",
       "  </thead>\n",
       "  <tbody>\n",
       "    <tr>\n",
       "      <th>0</th>\n",
       "      <td>Bangalore</td>\n",
       "      <td>8227</td>\n",
       "    </tr>\n",
       "    <tr>\n",
       "      <th>1</th>\n",
       "      <td>Hyderabad</td>\n",
       "      <td>4431</td>\n",
       "    </tr>\n",
       "    <tr>\n",
       "      <th>2</th>\n",
       "      <td>New Delhi</td>\n",
       "      <td>4166</td>\n",
       "    </tr>\n",
       "    <tr>\n",
       "      <th>3</th>\n",
       "      <td>Chennai</td>\n",
       "      <td>2437</td>\n",
       "    </tr>\n",
       "    <tr>\n",
       "      <th>4</th>\n",
       "      <td>Pune</td>\n",
       "      <td>2127</td>\n",
       "    </tr>\n",
       "    <tr>\n",
       "      <th>5</th>\n",
       "      <td>Mumbai</td>\n",
       "      <td>746</td>\n",
       "    </tr>\n",
       "    <tr>\n",
       "      <th>6</th>\n",
       "      <td>Kolkata</td>\n",
       "      <td>177</td>\n",
       "    </tr>\n",
       "    <tr>\n",
       "      <th>7</th>\n",
       "      <td>Madhya Pradesh</td>\n",
       "      <td>155</td>\n",
       "    </tr>\n",
       "    <tr>\n",
       "      <th>8</th>\n",
       "      <td>Kerala</td>\n",
       "      <td>107</td>\n",
       "    </tr>\n",
       "    <tr>\n",
       "      <th>9</th>\n",
       "      <td>Jaipur</td>\n",
       "      <td>80</td>\n",
       "    </tr>\n",
       "  </tbody>\n",
       "</table>\n",
       "</div>"
      ],
      "text/plain": [
       "         Location  Count\n",
       "0       Bangalore   8227\n",
       "1       Hyderabad   4431\n",
       "2       New Delhi   4166\n",
       "3         Chennai   2437\n",
       "4            Pune   2127\n",
       "5          Mumbai    746\n",
       "6         Kolkata    177\n",
       "7  Madhya Pradesh    155\n",
       "8          Kerala    107\n",
       "9          Jaipur     80"
      ]
     },
     "execution_count": 18,
     "metadata": {},
     "output_type": "execute_result"
    }
   ],
   "source": [
    "l=df['Location'].value_counts()\n",
    "l1=l.reset_index()\n",
    "l1.columns=['Location','Count']\n",
    "l1"
   ]
  },
  {
   "cell_type": "code",
   "execution_count": 19,
   "id": "fcb7f5b5",
   "metadata": {},
   "outputs": [],
   "source": [
    "f1 = []\n",
    "f2 = []\n",
    "\n",
    "# Iterate over the relevant columns\n",
    "for i in ['Location', 'Count']:\n",
    "    if i == 'Location':\n",
    "        f1.extend(l1[i].values)\n",
    "    elif i == 'Count':\n",
    "        f2.extend(l1[i].values)\n"
   ]
  },
  {
   "cell_type": "code",
   "execution_count": 20,
   "id": "fa37a849",
   "metadata": {},
   "outputs": [
    {
     "data": {
      "image/png": "[encoded data removed]",
      "text/plain": [
       "<Figure size 640x480 with 1 Axes>"
      ]
     },
     "metadata": {},
     "output_type": "display_data"
    }
   ],
   "source": [
    "sns.barplot(x=f1,y=f2)\n",
    "plt.xlabel('Cities')\n",
    "plt.ylabel('Population of Developers')\n",
    "plt.title('Citites by Population')\n",
    "plt.xticks(rotation='vertical')\n",
    "plt.show()"
   ]
  },
  {
   "cell_type": "code",
   "execution_count": 21,
   "id": "175e4b43",
   "metadata": {},
   "outputs": [
    {
     "data": {
      "text/plain": [
       "array(['Android', 'Backend', 'Database', 'Frontend', 'IOS', 'Java',\n",
       "       'Mobile', 'SDE', 'Python', 'Web', 'Testing'], dtype=object)"
      ]
     },
     "execution_count": 21,
     "metadata": {},
     "output_type": "execute_result"
    }
   ],
   "source": [
    "df['Job Roles'].unique()"
   ]
  },
  {
   "cell_type": "code",
   "execution_count": 22,
   "id": "0b1f3e69",
   "metadata": {},
   "outputs": [
    {
     "data": {
      "text/html": [
       "<div>\n",
       "<style scoped>\n",
       "    .dataframe tbody tr th:only-of-type {\n",
       "        vertical-align: middle;\n",
       "    }\n",
       "\n",
       "    .dataframe tbody tr th {\n",
       "        vertical-align: top;\n",
       "    }\n",
       "\n",
       "    .dataframe thead th {\n",
       "        text-align: right;\n",
       "    }\n",
       "</style>\n",
       "<table border=\"1\" class=\"dataframe\">\n",
       "  <thead>\n",
       "    <tr style=\"text-align: right;\">\n",
       "      <th></th>\n",
       "      <th>Job Roles</th>\n",
       "      <th>Count</th>\n",
       "    </tr>\n",
       "  </thead>\n",
       "  <tbody>\n",
       "    <tr>\n",
       "      <th>0</th>\n",
       "      <td>SDE</td>\n",
       "      <td>8151</td>\n",
       "    </tr>\n",
       "    <tr>\n",
       "      <th>1</th>\n",
       "      <td>Android</td>\n",
       "      <td>2942</td>\n",
       "    </tr>\n",
       "    <tr>\n",
       "      <th>2</th>\n",
       "      <td>Frontend</td>\n",
       "      <td>2149</td>\n",
       "    </tr>\n",
       "    <tr>\n",
       "      <th>3</th>\n",
       "      <td>Java</td>\n",
       "      <td>1834</td>\n",
       "    </tr>\n",
       "    <tr>\n",
       "      <th>4</th>\n",
       "      <td>Testing</td>\n",
       "      <td>1734</td>\n",
       "    </tr>\n",
       "    <tr>\n",
       "      <th>5</th>\n",
       "      <td>IOS</td>\n",
       "      <td>1631</td>\n",
       "    </tr>\n",
       "    <tr>\n",
       "      <th>6</th>\n",
       "      <td>Backend</td>\n",
       "      <td>1190</td>\n",
       "    </tr>\n",
       "    <tr>\n",
       "      <th>7</th>\n",
       "      <td>Web</td>\n",
       "      <td>993</td>\n",
       "    </tr>\n",
       "    <tr>\n",
       "      <th>8</th>\n",
       "      <td>Python</td>\n",
       "      <td>922</td>\n",
       "    </tr>\n",
       "    <tr>\n",
       "      <th>9</th>\n",
       "      <td>Database</td>\n",
       "      <td>863</td>\n",
       "    </tr>\n",
       "    <tr>\n",
       "      <th>10</th>\n",
       "      <td>Mobile</td>\n",
       "      <td>244</td>\n",
       "    </tr>\n",
       "  </tbody>\n",
       "</table>\n",
       "</div>"
      ],
      "text/plain": [
       "   Job Roles  Count\n",
       "0        SDE   8151\n",
       "1    Android   2942\n",
       "2   Frontend   2149\n",
       "3       Java   1834\n",
       "4    Testing   1734\n",
       "5        IOS   1631\n",
       "6    Backend   1190\n",
       "7        Web    993\n",
       "8     Python    922\n",
       "9   Database    863\n",
       "10    Mobile    244"
      ]
     },
     "execution_count": 22,
     "metadata": {},
     "output_type": "execute_result"
    }
   ],
   "source": [
    "jr=df['Job Roles'].value_counts()\n",
    "jr1=jr.reset_index()\n",
    "jr1.columns=['Job Roles','Count']\n",
    "jr1"
   ]
  },
  {
   "cell_type": "code",
   "execution_count": 23,
   "id": "75788ba9",
   "metadata": {},
   "outputs": [],
   "source": [
    "D=[]\n",
    "D1=[]\n",
    "for i in ['Job Roles','Count']:\n",
    "    if i=='Job Roles':\n",
    "        D.extend(jr1[i].values)\n",
    "    if i=='Count':\n",
    "        D1.extend(jr1[i].values)"
   ]
  },
  {
   "cell_type": "code",
   "execution_count": 24,
   "id": "a78f5409",
   "metadata": {},
   "outputs": [
    {
     "data": {
      "image/png": "[encoded data removed]",
      "text/plain": [
       "<Figure size 640x480 with 1 Axes>"
      ]
     },
     "metadata": {},
     "output_type": "display_data"
    }
   ],
   "source": [
    "sns.barplot(x=D,y=D1)\n",
    "plt.xlabel('Job Roles')\n",
    "plt.ylabel('Population of Developers')\n",
    "plt.xticks(rotation='vertical')\n",
    "plt.show()"
   ]
  },
  {
   "cell_type": "code",
   "execution_count": 25,
   "id": "e6b9883d",
   "metadata": {},
   "outputs": [
    {
     "data": {
      "text/html": [
       "<div>\n",
       "<style scoped>\n",
       "    .dataframe tbody tr th:only-of-type {\n",
       "        vertical-align: middle;\n",
       "    }\n",
       "\n",
       "    .dataframe tbody tr th {\n",
       "        vertical-align: top;\n",
       "    }\n",
       "\n",
       "    .dataframe thead th {\n",
       "        text-align: right;\n",
       "    }\n",
       "</style>\n",
       "<table border=\"1\" class=\"dataframe\">\n",
       "  <thead>\n",
       "    <tr style=\"text-align: right;\">\n",
       "      <th></th>\n",
       "      <th>index</th>\n",
       "      <th>Salary</th>\n",
       "    </tr>\n",
       "  </thead>\n",
       "  <tbody>\n",
       "    <tr>\n",
       "      <th>0</th>\n",
       "      <td>count</td>\n",
       "      <td>2.265300e+04</td>\n",
       "    </tr>\n",
       "    <tr>\n",
       "      <th>1</th>\n",
       "      <td>mean</td>\n",
       "      <td>6.968073e+05</td>\n",
       "    </tr>\n",
       "    <tr>\n",
       "      <th>2</th>\n",
       "      <td>std</td>\n",
       "      <td>8.860057e+05</td>\n",
       "    </tr>\n",
       "    <tr>\n",
       "      <th>3</th>\n",
       "      <td>min</td>\n",
       "      <td>2.112000e+03</td>\n",
       "    </tr>\n",
       "    <tr>\n",
       "      <th>4</th>\n",
       "      <td>25%</td>\n",
       "      <td>3.000000e+05</td>\n",
       "    </tr>\n",
       "    <tr>\n",
       "      <th>5</th>\n",
       "      <td>50%</td>\n",
       "      <td>5.000000e+05</td>\n",
       "    </tr>\n",
       "    <tr>\n",
       "      <th>6</th>\n",
       "      <td>75%</td>\n",
       "      <td>9.000000e+05</td>\n",
       "    </tr>\n",
       "    <tr>\n",
       "      <th>7</th>\n",
       "      <td>max</td>\n",
       "      <td>9.000000e+07</td>\n",
       "    </tr>\n",
       "  </tbody>\n",
       "</table>\n",
       "</div>"
      ],
      "text/plain": [
       "   index        Salary\n",
       "0  count  2.265300e+04\n",
       "1   mean  6.968073e+05\n",
       "2    std  8.860057e+05\n",
       "3    min  2.112000e+03\n",
       "4    25%  3.000000e+05\n",
       "5    50%  5.000000e+05\n",
       "6    75%  9.000000e+05\n",
       "7    max  9.000000e+07"
      ]
     },
     "execution_count": 25,
     "metadata": {},
     "output_type": "execute_result"
    }
   ],
   "source": [
    "salary = df['Salary'].describe()\n",
    "salary_df = salary.reset_index()\n",
    "salary_df"
   ]
  },
  {
   "cell_type": "code",
   "execution_count": 26,
   "id": "058c2943",
   "metadata": {},
   "outputs": [
    {
     "name": "stderr",
     "output_type": "stream",
     "text": [
      "C:\\Users\\indra\\AppData\\Local\\Temp\\ipykernel_4300\\2614900338.py:1: UserWarning: \n",
      "\n",
      "`distplot` is a deprecated function and will be removed in seaborn v0.14.0.\n",
      "\n",
      "Please adapt your code to use either `displot` (a figure-level function with\n",
      "similar flexibility) or `histplot` (an axes-level function for histograms).\n",
      "\n",
      "For a guide to updating your code to use the new functions, please see\n",
      "https://gist.github.com/mwaskom/de44147ed2974457ad6372750bbe5751\n",
      "\n",
      "  sns.distplot(df['Salary'],kde=True)\n"
     ]
    },
    {
     "data": {
      "text/plain": [
       "<Axes: xlabel='Salary', ylabel='Density'>"
      ]
     },
     "execution_count": 26,
     "metadata": {},
     "output_type": "execute_result"
    },
    {
     "data": {
      "image/png": "[encoded data removed]",
      "text/plain": [
       "<Figure size 640x480 with 1 Axes>"
      ]
     },
     "metadata": {},
     "output_type": "display_data"
    }
   ],
   "source": [
    "sns.distplot(df['Salary'],kde=True)"
   ]
  },
  {
   "cell_type": "markdown",
   "id": "00b78d11",
   "metadata": {},
   "source": [
    "As the Mean>Median,this shows that it is a Right-Skewed Disturbution.This is not a very unexpected result beacuse the median salary of a very large pouplation is most likely toward the lower side."
   ]
  },
  {
   "cell_type": "code",
   "execution_count": 27,
   "id": "25a20e5f",
   "metadata": {},
   "outputs": [
    {
     "name": "stdout",
     "output_type": "stream",
     "text": [
      "Skewness is: 46.77595029608785\n"
     ]
    }
   ],
   "source": [
    "from scipy.stats import skew\n",
    "print(\"Skewness is:\",skew(df['Salary']))"
   ]
  },
  {
   "cell_type": "markdown",
   "id": "4eb712dc",
   "metadata": {},
   "source": [
    "So the Skewness>>1,this states that it's a right skewed distrubution.\n",
    "Here we can use many transformation such as log transformation,Power transformation etc.\n",
    "Here we will use Log transformation"
   ]
  },
  {
   "cell_type": "code",
   "execution_count": 28,
   "id": "fb10bcc5",
   "metadata": {},
   "outputs": [
    {
     "data": {
      "image/png": "[encoded data removed]",
      "text/plain": [
       "<Figure size 640x480 with 1 Axes>"
      ]
     },
     "metadata": {},
     "output_type": "display_data"
    }
   ],
   "source": [
    "import warnings\n",
    "warnings.simplefilter(action='ignore')\n",
    "sns.boxplot(np.log(df['Salary']))\n",
    "plt.title('Boxplot of salary distribution after log transformation')\n",
    "plt.show()"
   ]
  },
  {
   "cell_type": "code",
   "execution_count": 29,
   "id": "1597b8fa",
   "metadata": {},
   "outputs": [
    {
     "data": {
      "image/png": "[encoded data removed]",
      "text/plain": [
       "<Figure size 640x480 with 1 Axes>"
      ]
     },
     "metadata": {},
     "output_type": "display_data"
    }
   ],
   "source": [
    "sns.distplot(np.log(df['Salary']),kde=True)\n",
    "plt.title(\"Salary Distribution after log transformation\")\n",
    "plt.show()"
   ]
  },
  {
   "cell_type": "markdown",
   "id": "13b6c5b7",
   "metadata": {},
   "source": [
    "I guess this distribution is very close to normal and also the skewness is also removed after the log transformation.Thus we can use this plot for Hypothesis testing."
   ]
  },
  {
   "cell_type": "code",
   "execution_count": 30,
   "id": "103c21d7",
   "metadata": {},
   "outputs": [
    {
     "data": {
      "text/html": [
       "<div>\n",
       "<style scoped>\n",
       "    .dataframe tbody tr th:only-of-type {\n",
       "        vertical-align: middle;\n",
       "    }\n",
       "\n",
       "    .dataframe tbody tr th {\n",
       "        vertical-align: top;\n",
       "    }\n",
       "\n",
       "    .dataframe thead th {\n",
       "        text-align: right;\n",
       "    }\n",
       "</style>\n",
       "<table border=\"1\" class=\"dataframe\">\n",
       "  <thead>\n",
       "    <tr style=\"text-align: right;\">\n",
       "      <th></th>\n",
       "      <th>Rating</th>\n",
       "    </tr>\n",
       "  </thead>\n",
       "  <tbody>\n",
       "    <tr>\n",
       "      <th>count</th>\n",
       "      <td>22653.000000</td>\n",
       "    </tr>\n",
       "    <tr>\n",
       "      <th>mean</th>\n",
       "      <td>3.917124</td>\n",
       "    </tr>\n",
       "    <tr>\n",
       "      <th>std</th>\n",
       "      <td>0.520700</td>\n",
       "    </tr>\n",
       "    <tr>\n",
       "      <th>min</th>\n",
       "      <td>1.000000</td>\n",
       "    </tr>\n",
       "    <tr>\n",
       "      <th>25%</th>\n",
       "      <td>3.700000</td>\n",
       "    </tr>\n",
       "    <tr>\n",
       "      <th>50%</th>\n",
       "      <td>3.900000</td>\n",
       "    </tr>\n",
       "    <tr>\n",
       "      <th>75%</th>\n",
       "      <td>4.200000</td>\n",
       "    </tr>\n",
       "    <tr>\n",
       "      <th>max</th>\n",
       "      <td>5.000000</td>\n",
       "    </tr>\n",
       "  </tbody>\n",
       "</table>\n",
       "</div>"
      ],
      "text/plain": [
       "             Rating\n",
       "count  22653.000000\n",
       "mean       3.917124\n",
       "std        0.520700\n",
       "min        1.000000\n",
       "25%        3.700000\n",
       "50%        3.900000\n",
       "75%        4.200000\n",
       "max        5.000000"
      ]
     },
     "execution_count": 30,
     "metadata": {},
     "output_type": "execute_result"
    }
   ],
   "source": [
    "\n",
    "rating_stats = df['Rating'].describe()\n",
    "\n",
    "# Convert to DataFrame\n",
    "rating_df = pd.DataFrame(rating_stats)\n",
    "rating_df"
   ]
  },
  {
   "cell_type": "code",
   "execution_count": 31,
   "id": "3e95e9bb",
   "metadata": {},
   "outputs": [
    {
     "name": "stdout",
     "output_type": "stream",
     "text": [
      "Skewness is : -1.0080950998038918\n"
     ]
    }
   ],
   "source": [
    "print(\"Skewness is :\", skew(df['Rating']))"
   ]
  },
  {
   "cell_type": "markdown",
   "id": "d4c12da4",
   "metadata": {},
   "source": [
    "so it is a negative-skewed distribution "
   ]
  },
  {
   "cell_type": "code",
   "execution_count": 32,
   "id": "d415fdae",
   "metadata": {},
   "outputs": [
    {
     "data": {
      "image/png": "[encoded data removed]",
      "text/plain": [
       "<Figure size 640x480 with 1 Axes>"
      ]
     },
     "metadata": {},
     "output_type": "display_data"
    }
   ],
   "source": [
    "sns.boxplot(np.log(df['Rating']),orient='h')\n",
    "plt.title('Boxplot of Rating distribution after log transformation')\n",
    "plt.show()"
   ]
  },
  {
   "cell_type": "code",
   "execution_count": 33,
   "id": "c37d717f",
   "metadata": {},
   "outputs": [
    {
     "data": {
      "image/png": "[encoded data removed]",
      "text/plain": [
       "<Figure size 640x480 with 1 Axes>"
      ]
     },
     "metadata": {},
     "output_type": "display_data"
    }
   ],
   "source": [
    "sns.distplot(np.log(df['Rating']),kde=True)\n",
    "plt.title(\"Rating Distribution after log transformation\")\n",
    "plt.show()"
   ]
  },
  {
   "cell_type": "markdown",
   "id": "8d8b9279",
   "metadata": {},
   "source": [
    "Thus,the distribution is almost Normal if we ignore the left tail,which have fraction of the data.Thus,it will follow the assumptions of Normal distribution and can be used for 'Hypothesis testing'."
   ]
  },
  {
   "cell_type": "code",
   "execution_count": 34,
   "id": "1de0f3b7",
   "metadata": {},
   "outputs": [
    {
     "data": {
      "text/plain": [
       "array([  3,   2,   1,   5,   4,   6,   8,  11,   9,  30,  19,  35,  17,\n",
       "         7,  43,  24,  21,  15,  14,  13,  12,  10,  26,  29,  18,  16,\n",
       "        84,  38,  36,  20, 291,  23, 353,  40,  60, 162,  68,  33,  45,\n",
       "        73, 135, 100,  22,  75,  37,  34,  65, 115,  28, 186,  41,  31,\n",
       "       188, 149,  77,  76,  52,  39,  83,  25, 361,  42, 280,  74,  44,\n",
       "       331,  70,  50,  48, 263, 116, 106, 103,  98,  91,  80,  71,  64,\n",
       "        51,  46,  32,  27], dtype=int64)"
      ]
     },
     "execution_count": 34,
     "metadata": {},
     "output_type": "execute_result"
    }
   ],
   "source": [
    "df['Salaries Reported'].unique()"
   ]
  },
  {
   "cell_type": "code",
   "execution_count": 35,
   "id": "7d86c554",
   "metadata": {},
   "outputs": [
    {
     "data": {
      "image/png": "[encoded data removed]",
      "text/plain": [
       "<Figure size 640x480 with 1 Axes>"
      ]
     },
     "metadata": {},
     "output_type": "display_data"
    }
   ],
   "source": [
    "sns.distplot(np.log(df['Salaries Reported']),kde=True)\n",
    "plt.title('Salary reported distribution after log transformation')\n",
    "plt.show()"
   ]
  },
  {
   "cell_type": "markdown",
   "id": "537c98d4",
   "metadata": {},
   "source": [
    "This is nothing close to normal we can't use it for hypothesis testing."
   ]
  },
  {
   "cell_type": "markdown",
   "id": "c5f53a07",
   "metadata": {},
   "source": [
    " Employment Status"
   ]
  },
  {
   "cell_type": "code",
   "execution_count": 36,
   "id": "3b1f59eb",
   "metadata": {},
   "outputs": [
    {
     "data": {
      "text/html": [
       "<div>\n",
       "<style scoped>\n",
       "    .dataframe tbody tr th:only-of-type {\n",
       "        vertical-align: middle;\n",
       "    }\n",
       "\n",
       "    .dataframe tbody tr th {\n",
       "        vertical-align: top;\n",
       "    }\n",
       "\n",
       "    .dataframe thead th {\n",
       "        text-align: right;\n",
       "    }\n",
       "</style>\n",
       "<table border=\"1\" class=\"dataframe\">\n",
       "  <thead>\n",
       "    <tr style=\"text-align: right;\">\n",
       "      <th></th>\n",
       "      <th>Employment Status</th>\n",
       "    </tr>\n",
       "  </thead>\n",
       "  <tbody>\n",
       "    <tr>\n",
       "      <th>Full Time</th>\n",
       "      <td>19983</td>\n",
       "    </tr>\n",
       "    <tr>\n",
       "      <th>Intern</th>\n",
       "      <td>2090</td>\n",
       "    </tr>\n",
       "    <tr>\n",
       "      <th>Contractor</th>\n",
       "      <td>548</td>\n",
       "    </tr>\n",
       "    <tr>\n",
       "      <th>Trainee</th>\n",
       "      <td>32</td>\n",
       "    </tr>\n",
       "  </tbody>\n",
       "</table>\n",
       "</div>"
      ],
      "text/plain": [
       "            Employment Status\n",
       "Full Time               19983\n",
       "Intern                   2090\n",
       "Contractor                548\n",
       "Trainee                    32"
      ]
     },
     "execution_count": 36,
     "metadata": {},
     "output_type": "execute_result"
    }
   ],
   "source": [
    "employment=df['Employment Status'].value_counts()\n",
    "pd.DataFrame(employment)"
   ]
  },
  {
   "cell_type": "code",
   "execution_count": 37,
   "id": "d7c7fb65",
   "metadata": {},
   "outputs": [],
   "source": [
    "f00=[]\n",
    "f01=[]\n",
    "for i in employment.index:\n",
    "    f00.append(i)\n",
    "    f01.append(employment[i])\n"
   ]
  },
  {
   "cell_type": "code",
   "execution_count": 38,
   "id": "f0d1ed6a",
   "metadata": {},
   "outputs": [
    {
     "data": {
      "image/png": "[encoded data removed]",
      "text/plain": [
       "<Figure size 640x480 with 1 Axes>"
      ]
     },
     "metadata": {},
     "output_type": "display_data"
    }
   ],
   "source": [
    "sns.barplot(x=f00,y=f01)\n",
    "plt.xlabel('Employment Staus')\n",
    "plt.ylabel('Population of Developers')\n",
    "plt.xticks(rotation='vertical')\n",
    "plt.show()"
   ]
  },
  {
   "cell_type": "markdown",
   "id": "c4e9af0f",
   "metadata": {},
   "source": [
    "Here we can conclude that most of the employees here are Full time and others are interns."
   ]
  },
  {
   "cell_type": "markdown",
   "id": "0116ada4",
   "metadata": {},
   "source": [
    "# HYPOTHESIS"
   ]
  },
  {
   "cell_type": "markdown",
   "id": "398a8366",
   "metadata": {},
   "source": [
    "Below are the list of hypothesis that we have built,and lets prove them one-by-one.\n",
    "## 1st Hypothesis: Most of the SDE's live in Bangalore\n",
    "## 2nd Hypothesis:Employees using Java in job roles have higher salary than Python.\n",
    "## 3rd Hypotheis:Microsoft developers living in hyderabad get more salary than Bangalore.\n",
    "    \n",
    "As,we saw in the previous section that continuos features of the data is skewed.Thus,we have do a transformations to make them normal.\n",
    "This is required for hypothesis testing,we assume that our distrubution is Normal.Thus,will do a Log-Transormations to make it normal \n",
    "and use this data for further analysis."
   ]
  },
  {
   "cell_type": "markdown",
   "id": "fc7b9f75",
   "metadata": {},
   "source": [
    "Statement:Most of the SDE live in Banglore"
   ]
  },
  {
   "cell_type": "code",
   "execution_count": 39,
   "id": "8ef4c2ae",
   "metadata": {},
   "outputs": [],
   "source": [
    "sde=df[df['Job Roles']=='SDE']\n"
   ]
  },
  {
   "cell_type": "code",
   "execution_count": 40,
   "id": "82078e66",
   "metadata": {},
   "outputs": [
    {
     "data": {
      "text/html": [
       "<div>\n",
       "<style scoped>\n",
       "    .dataframe tbody tr th:only-of-type {\n",
       "        vertical-align: middle;\n",
       "    }\n",
       "\n",
       "    .dataframe tbody tr th {\n",
       "        vertical-align: top;\n",
       "    }\n",
       "\n",
       "    .dataframe thead th {\n",
       "        text-align: right;\n",
       "    }\n",
       "</style>\n",
       "<table border=\"1\" class=\"dataframe\">\n",
       "  <thead>\n",
       "    <tr style=\"text-align: right;\">\n",
       "      <th></th>\n",
       "      <th>Counts</th>\n",
       "    </tr>\n",
       "  </thead>\n",
       "  <tbody>\n",
       "    <tr>\n",
       "      <th>Bangalore</th>\n",
       "      <td>1981</td>\n",
       "    </tr>\n",
       "    <tr>\n",
       "      <th>New Delhi</th>\n",
       "      <td>1691</td>\n",
       "    </tr>\n",
       "    <tr>\n",
       "      <th>Hyderabad</th>\n",
       "      <td>1479</td>\n",
       "    </tr>\n",
       "    <tr>\n",
       "      <th>Pune</th>\n",
       "      <td>1070</td>\n",
       "    </tr>\n",
       "    <tr>\n",
       "      <th>Mumbai</th>\n",
       "      <td>744</td>\n",
       "    </tr>\n",
       "    <tr>\n",
       "      <th>Chennai</th>\n",
       "      <td>668</td>\n",
       "    </tr>\n",
       "    <tr>\n",
       "      <th>Kolkata</th>\n",
       "      <td>176</td>\n",
       "    </tr>\n",
       "    <tr>\n",
       "      <th>Madhya Pradesh</th>\n",
       "      <td>155</td>\n",
       "    </tr>\n",
       "    <tr>\n",
       "      <th>Kerala</th>\n",
       "      <td>107</td>\n",
       "    </tr>\n",
       "    <tr>\n",
       "      <th>Jaipur</th>\n",
       "      <td>80</td>\n",
       "    </tr>\n",
       "  </tbody>\n",
       "</table>\n",
       "</div>"
      ],
      "text/plain": [
       "                Counts\n",
       "Bangalore         1981\n",
       "New Delhi         1691\n",
       "Hyderabad         1479\n",
       "Pune              1070\n",
       "Mumbai             744\n",
       "Chennai            668\n",
       "Kolkata            176\n",
       "Madhya Pradesh     155\n",
       "Kerala             107\n",
       "Jaipur              80"
      ]
     },
     "execution_count": 40,
     "metadata": {},
     "output_type": "execute_result"
    }
   ],
   "source": [
    "loc=sde['Location'].value_counts()\n",
    "ls1=pd.DataFrame(loc)\n",
    "ls1=ls1.rename(columns={'Location':'Counts'})\n",
    "ls1"
   ]
  },
  {
   "cell_type": "code",
   "execution_count": 41,
   "id": "af1a66d2",
   "metadata": {},
   "outputs": [],
   "source": [
    "D_e=[]\n",
    "D_F=[]\n",
    "for key, value in ls1.iterrows():\n",
    "    D_e.append(key)\n",
    "    D_F.append(value['Counts'])\n"
   ]
  },
  {
   "cell_type": "code",
   "execution_count": 42,
   "id": "e1c91282",
   "metadata": {},
   "outputs": [
    {
     "data": {
      "image/png": "[encoded data removed]",
      "text/plain": [
       "<Figure size 640x480 with 1 Axes>"
      ]
     },
     "metadata": {},
     "output_type": "display_data"
    }
   ],
   "source": [
    "sns.barplot(x=D_e,y=D_F)\n",
    "plt.xticks(rotation='vertical')\n",
    "plt.xlabel('Cities')\n",
    "plt.ylabel('Population of Developers')\n",
    "plt.show()"
   ]
  },
  {
   "cell_type": "markdown",
   "id": "cb2759c5",
   "metadata": {},
   "source": [
    "## It appears that software development engineers (SDEs) have a strong preference for Bangalore, which may be likened to how Kota is favored by students preparing for competitive exams. Given that the counts of developers do not form a standard statistical distribution, we are unable to perform hypothesis testing. Therefore, we rely on the insights derived from the bar plot."
   ]
  },
  {
   "cell_type": "markdown",
   "id": "574da66c",
   "metadata": {},
   "source": [
    "# 2nd Hypothesis"
   ]
  },
  {
   "cell_type": "markdown",
   "id": "49e92e6f",
   "metadata": {},
   "source": [
    "## Statement:The java developers have higher salary as compared to python "
   ]
  },
  {
   "cell_type": "code",
   "execution_count": 43,
   "id": "d548acf7",
   "metadata": {},
   "outputs": [],
   "source": [
    "DF=df.copy()\n",
    "DF['Salary']=np.log(DF['Salary'])\n",
    "\n",
    "D12=DF[DF['Job Roles'].isin(['Java','Python'])]\n",
    "\n"
   ]
  },
  {
   "cell_type": "code",
   "execution_count": 44,
   "id": "b1591b47",
   "metadata": {},
   "outputs": [
    {
     "data": {
      "text/html": [
       "<div>\n",
       "<style scoped>\n",
       "    .dataframe tbody tr th:only-of-type {\n",
       "        vertical-align: middle;\n",
       "    }\n",
       "\n",
       "    .dataframe tbody tr th {\n",
       "        vertical-align: top;\n",
       "    }\n",
       "\n",
       "    .dataframe thead th {\n",
       "        text-align: right;\n",
       "    }\n",
       "</style>\n",
       "<table border=\"1\" class=\"dataframe\">\n",
       "  <thead>\n",
       "    <tr style=\"text-align: right;\">\n",
       "      <th></th>\n",
       "      <th>Salary</th>\n",
       "    </tr>\n",
       "  </thead>\n",
       "  <tbody>\n",
       "    <tr>\n",
       "      <th>count</th>\n",
       "      <td>1834.000000</td>\n",
       "    </tr>\n",
       "    <tr>\n",
       "      <th>mean</th>\n",
       "      <td>12.942229</td>\n",
       "    </tr>\n",
       "    <tr>\n",
       "      <th>std</th>\n",
       "      <td>0.754228</td>\n",
       "    </tr>\n",
       "    <tr>\n",
       "      <th>min</th>\n",
       "      <td>9.041685</td>\n",
       "    </tr>\n",
       "    <tr>\n",
       "      <th>25%</th>\n",
       "      <td>12.448814</td>\n",
       "    </tr>\n",
       "    <tr>\n",
       "      <th>50%</th>\n",
       "      <td>12.899220</td>\n",
       "    </tr>\n",
       "    <tr>\n",
       "      <th>75%</th>\n",
       "      <td>13.458836</td>\n",
       "    </tr>\n",
       "    <tr>\n",
       "      <th>max</th>\n",
       "      <td>16.118096</td>\n",
       "    </tr>\n",
       "  </tbody>\n",
       "</table>\n",
       "</div>"
      ],
      "text/plain": [
       "            Salary\n",
       "count  1834.000000\n",
       "mean     12.942229\n",
       "std       0.754228\n",
       "min       9.041685\n",
       "25%      12.448814\n",
       "50%      12.899220\n",
       "75%      13.458836\n",
       "max      16.118096"
      ]
     },
     "execution_count": 44,
     "metadata": {},
     "output_type": "execute_result"
    }
   ],
   "source": [
    "r1=D12[D12['Job Roles']==\"Java\"].Salary.describe()\n",
    "pd.DataFrame(r1)"
   ]
  },
  {
   "cell_type": "code",
   "execution_count": 45,
   "id": "e30320ba",
   "metadata": {},
   "outputs": [
    {
     "data": {
      "text/html": [
       "<div>\n",
       "<style scoped>\n",
       "    .dataframe tbody tr th:only-of-type {\n",
       "        vertical-align: middle;\n",
       "    }\n",
       "\n",
       "    .dataframe tbody tr th {\n",
       "        vertical-align: top;\n",
       "    }\n",
       "\n",
       "    .dataframe thead th {\n",
       "        text-align: right;\n",
       "    }\n",
       "</style>\n",
       "<table border=\"1\" class=\"dataframe\">\n",
       "  <thead>\n",
       "    <tr style=\"text-align: right;\">\n",
       "      <th></th>\n",
       "      <th>Salary</th>\n",
       "    </tr>\n",
       "  </thead>\n",
       "  <tbody>\n",
       "    <tr>\n",
       "      <th>count</th>\n",
       "      <td>922.000000</td>\n",
       "    </tr>\n",
       "    <tr>\n",
       "      <th>mean</th>\n",
       "      <td>12.851564</td>\n",
       "    </tr>\n",
       "    <tr>\n",
       "      <th>std</th>\n",
       "      <td>0.712488</td>\n",
       "    </tr>\n",
       "    <tr>\n",
       "      <th>min</th>\n",
       "      <td>10.085809</td>\n",
       "    </tr>\n",
       "    <tr>\n",
       "      <th>25%</th>\n",
       "      <td>12.388394</td>\n",
       "    </tr>\n",
       "    <tr>\n",
       "      <th>50%</th>\n",
       "      <td>12.899220</td>\n",
       "    </tr>\n",
       "    <tr>\n",
       "      <th>75%</th>\n",
       "      <td>13.304685</td>\n",
       "    </tr>\n",
       "    <tr>\n",
       "      <th>max</th>\n",
       "      <td>15.747032</td>\n",
       "    </tr>\n",
       "  </tbody>\n",
       "</table>\n",
       "</div>"
      ],
      "text/plain": [
       "           Salary\n",
       "count  922.000000\n",
       "mean    12.851564\n",
       "std      0.712488\n",
       "min     10.085809\n",
       "25%     12.388394\n",
       "50%     12.899220\n",
       "75%     13.304685\n",
       "max     15.747032"
      ]
     },
     "execution_count": 45,
     "metadata": {},
     "output_type": "execute_result"
    }
   ],
   "source": [
    "r2=D12[D12['Job Roles']==\"Python\"].Salary.describe()\n",
    "pd.DataFrame(r2)"
   ]
  },
  {
   "cell_type": "markdown",
   "id": "ed62224b",
   "metadata": {},
   "source": [
    "Two-Sampled Z-test\n",
    "\n",
    "Null Hypothesis (Ho): Java developers have similar salaries compared to Python developers.\n",
    "\n",
    "Alternative Hypothesis (Ha): Java developers have different salaries compared to Python developers.\n",
    "alpha=0.05\n",
    "\n",
    "Aim:Here we have 2 Samples,so to compare their mean,we will do a '2 sample Z-test'.As the sample is large,so 'Z-test' will be good\n",
    "test static.IF we get P value lower than alpha,then the effect is real and the result is statistically significant.    "
   ]
  },
  {
   "cell_type": "code",
   "execution_count": 46,
   "id": "d0f65ea0",
   "metadata": {},
   "outputs": [],
   "source": [
    "numbers=np.array([1834,922])\n",
    "salarysum=np.array([12.94,12.85])\n",
    "from statsmodels.stats.proportion import proportions_ztest"
   ]
  },
  {
   "cell_type": "code",
   "execution_count": 47,
   "id": "461ab593",
   "metadata": {},
   "outputs": [
    {
     "name": "stdout",
     "output_type": "stream",
     "text": [
      "Z-score= -1.7703645574909819\n",
      "P-value= 0.07666643000664959\n"
     ]
    }
   ],
   "source": [
    "Z_value,P_value=proportions_ztest(salarysum,numbers)\n",
    "\n",
    "print('Z-score=',Z_value)\n",
    "print('P-value=',P_value)"
   ]
  },
  {
   "cell_type": "markdown",
   "id": "de163185",
   "metadata": {},
   "source": [
    "## The p-value is about 0.076>alpha,so we can't reject the null hypothesis.That means the developers using java have similar salary as that of python"
   ]
  },
  {
   "cell_type": "code",
   "execution_count": 48,
   "id": "42a0c9f6",
   "metadata": {},
   "outputs": [
    {
     "data": {
      "image/png": "[encoded data removed]",
      "text/plain": [
       "<Figure size 640x480 with 1 Axes>"
      ]
     },
     "metadata": {},
     "output_type": "display_data"
    }
   ],
   "source": [
    "sns.distplot(D12[D12['Job Roles']=='Java'].Salary,label='Java')\n",
    "sns.distplot(D12[D12['Job Roles']=='Python'].Salary,label='Python')\n",
    "plt.title(\"Comapring the distribution of Java and Python\")\n",
    "plt.show()"
   ]
  },
  {
   "cell_type": "markdown",
   "id": "9618e4be",
   "metadata": {},
   "source": [
    "## Result:\n",
    "### Based on the two-sample z-test, we accept the null hypothesis, indicating that Java and Python developers have similar salaries (thank goodness). The higher number of individuals in Java development supports this finding."
   ]
  },
  {
   "cell_type": "markdown",
   "id": "18daed90",
   "metadata": {},
   "source": [
    "# 3rd Hypothesis\n",
    "\n",
    "## Statement:Microsoft developers living in hyderabad get more salary than Bangalore"
   ]
  },
  {
   "cell_type": "markdown",
   "id": "ec71d0f4",
   "metadata": {},
   "source": [
    "Two-Sample Z-Test\n",
    "\n",
    "Null Hypothesis (Ho): Employees working in Hyderabad are paid equally to those in Bangalore.\n",
    "\n",
    "Alternative Hypothesis (Ha): Microsoft employees working in Hyderabad are paid differently than those in Bangalore.\n",
    "\n",
    "Alpha: 0.05\n",
    "\n",
    "Aim: Here, we will perform a two-sample z-test to verify our hypothesis. Typically, we use the z-test when\n",
    "n>30 and the population standard deviation is known."
   ]
  },
  {
   "cell_type": "code",
   "execution_count": 49,
   "id": "0f1b217f",
   "metadata": {},
   "outputs": [],
   "source": [
    "D13=DF[DF['Location'].isin(['Bangalore','Hyderabad'])]\n",
    "D33=D13[D13['Company Name']==\"Microsoft\"]\n",
    "x11=D33[D33['Location']=='Bangalore'].Salary\n",
    "x12=D33[D33['Location']=='Hyderabad'].Salary"
   ]
  },
  {
   "cell_type": "code",
   "execution_count": 50,
   "id": "887c8797",
   "metadata": {},
   "outputs": [
    {
     "data": {
      "text/html": [
       "<div>\n",
       "<style scoped>\n",
       "    .dataframe tbody tr th:only-of-type {\n",
       "        vertical-align: middle;\n",
       "    }\n",
       "\n",
       "    .dataframe tbody tr th {\n",
       "        vertical-align: top;\n",
       "    }\n",
       "\n",
       "    .dataframe thead th {\n",
       "        text-align: right;\n",
       "    }\n",
       "</style>\n",
       "<table border=\"1\" class=\"dataframe\">\n",
       "  <thead>\n",
       "    <tr style=\"text-align: right;\">\n",
       "      <th></th>\n",
       "      <th>Hyderabad(Salary)</th>\n",
       "    </tr>\n",
       "  </thead>\n",
       "  <tbody>\n",
       "    <tr>\n",
       "      <th>count</th>\n",
       "      <td>47.000000</td>\n",
       "    </tr>\n",
       "    <tr>\n",
       "      <th>mean</th>\n",
       "      <td>13.930937</td>\n",
       "    </tr>\n",
       "    <tr>\n",
       "      <th>std</th>\n",
       "      <td>1.078638</td>\n",
       "    </tr>\n",
       "    <tr>\n",
       "      <th>min</th>\n",
       "      <td>9.392662</td>\n",
       "    </tr>\n",
       "    <tr>\n",
       "      <th>25%</th>\n",
       "      <td>13.570704</td>\n",
       "    </tr>\n",
       "    <tr>\n",
       "      <th>50%</th>\n",
       "      <td>14.151983</td>\n",
       "    </tr>\n",
       "    <tr>\n",
       "      <th>75%</th>\n",
       "      <td>14.603968</td>\n",
       "    </tr>\n",
       "    <tr>\n",
       "      <th>max</th>\n",
       "      <td>15.201805</td>\n",
       "    </tr>\n",
       "  </tbody>\n",
       "</table>\n",
       "</div>"
      ],
      "text/plain": [
       "       Hyderabad(Salary)\n",
       "count          47.000000\n",
       "mean           13.930937\n",
       "std             1.078638\n",
       "min             9.392662\n",
       "25%            13.570704\n",
       "50%            14.151983\n",
       "75%            14.603968\n",
       "max            15.201805"
      ]
     },
     "execution_count": 50,
     "metadata": {},
     "output_type": "execute_result"
    }
   ],
   "source": [
    "hyd=x12.describe()\n",
    "hyd_stats=pd.DataFrame(hyd)\n",
    "hyd_stats.rename(columns={'Salary': 'Hyderabad(Salary)'})"
   ]
  },
  {
   "cell_type": "code",
   "execution_count": 51,
   "id": "cddbb002",
   "metadata": {},
   "outputs": [
    {
     "data": {
      "text/html": [
       "<div>\n",
       "<style scoped>\n",
       "    .dataframe tbody tr th:only-of-type {\n",
       "        vertical-align: middle;\n",
       "    }\n",
       "\n",
       "    .dataframe tbody tr th {\n",
       "        vertical-align: top;\n",
       "    }\n",
       "\n",
       "    .dataframe thead th {\n",
       "        text-align: right;\n",
       "    }\n",
       "</style>\n",
       "<table border=\"1\" class=\"dataframe\">\n",
       "  <thead>\n",
       "    <tr style=\"text-align: right;\">\n",
       "      <th></th>\n",
       "      <th>Bangalore(Salary)</th>\n",
       "    </tr>\n",
       "  </thead>\n",
       "  <tbody>\n",
       "    <tr>\n",
       "      <th>count</th>\n",
       "      <td>20.000000</td>\n",
       "    </tr>\n",
       "    <tr>\n",
       "      <th>mean</th>\n",
       "      <td>13.911496</td>\n",
       "    </tr>\n",
       "    <tr>\n",
       "      <th>std</th>\n",
       "      <td>0.778606</td>\n",
       "    </tr>\n",
       "    <tr>\n",
       "      <th>min</th>\n",
       "      <td>11.512925</td>\n",
       "    </tr>\n",
       "    <tr>\n",
       "      <th>25%</th>\n",
       "      <td>13.777073</td>\n",
       "    </tr>\n",
       "    <tr>\n",
       "      <th>50%</th>\n",
       "      <td>13.994348</td>\n",
       "    </tr>\n",
       "    <tr>\n",
       "      <th>75%</th>\n",
       "      <td>14.353498</td>\n",
       "    </tr>\n",
       "    <tr>\n",
       "      <th>max</th>\n",
       "      <td>15.009433</td>\n",
       "    </tr>\n",
       "  </tbody>\n",
       "</table>\n",
       "</div>"
      ],
      "text/plain": [
       "       Bangalore(Salary)\n",
       "count          20.000000\n",
       "mean           13.911496\n",
       "std             0.778606\n",
       "min            11.512925\n",
       "25%            13.777073\n",
       "50%            13.994348\n",
       "75%            14.353498\n",
       "max            15.009433"
      ]
     },
     "execution_count": 51,
     "metadata": {},
     "output_type": "execute_result"
    }
   ],
   "source": [
    "bng=x11.describe()\n",
    "bng_stats=pd.DataFrame(bng)\n",
    "bng_stats.rename(columns={'Salary': 'Bangalore(Salary)'})"
   ]
  },
  {
   "cell_type": "code",
   "execution_count": 52,
   "id": "67c4a665",
   "metadata": {},
   "outputs": [
    {
     "name": "stdout",
     "output_type": "stream",
     "text": [
      "Zscore: -3.0338900083814746\n",
      "Pvalue: 0.0024142243307232326\n"
     ]
    }
   ],
   "source": [
    "nods=np.array([47,20])\n",
    "total_salary_mean=([13.930937,13.911496])\n",
    "Z_value,P_value=proportions_ztest(total_salary_mean,nods)\n",
    "print('Zscore:', Z_value)\n",
    "print('Pvalue:', P_value)"
   ]
  },
  {
   "cell_type": "markdown",
   "id": "53365f2b",
   "metadata": {},
   "source": [
    "So,Pvalue<alpha ,it suggests that salaries is not similar that means we will reject the null hypothesis.But for the sake of convinince\n",
    "we will try t test also\n"
   ]
  },
  {
   "cell_type": "code",
   "execution_count": 53,
   "id": "6def0bc4",
   "metadata": {},
   "outputs": [
    {
     "name": "stdout",
     "output_type": "stream",
     "text": [
      "z_score for ttest: -1.450279883308087\n",
      "p_value for ttest: 0.28404691204022814\n"
     ]
    }
   ],
   "source": [
    "from scipy.stats import ttest_ind\n",
    "z_score,p_value=ttest_ind(total_salary_mean,nods)\n",
    "print('z_score for ttest:', z_score)\n",
    "print('p_value for ttest:' ,p_value)"
   ]
  },
  {
   "cell_type": "markdown",
   "id": "7c9dcbb5",
   "metadata": {},
   "source": [
    "The p-value for 'Z-test' is less than alpha,that means the result has 'Statistical significance'.So,We have enough evidence to\n",
    "reject the null hypothesis.That means the mean salary of Microsoft employee for the Hyderabad and Bangalore is different.But,the\n",
    "ttest gives the opposite result,thus lets compare it with actual data."
   ]
  },
  {
   "cell_type": "code",
   "execution_count": 54,
   "id": "7a99af3c",
   "metadata": {},
   "outputs": [
    {
     "data": {
      "image/png": "[encoded data removed]",
      "text/plain": [
       "<Figure size 640x480 with 1 Axes>"
      ]
     },
     "metadata": {},
     "output_type": "display_data"
    }
   ],
   "source": [
    "sns.boxplot(x='Location',y='Salary',data=D33)\n",
    "plt.title('Microsoft paying in Hyderabad vs Bangalore')\n",
    "plt.show()"
   ]
  },
  {
   "cell_type": "markdown",
   "id": "a5ab3a6d",
   "metadata": {},
   "source": [
    "Based on the boxplot analysis, we conclude that the median salary in Hyderabad is higher than that in Bangalore. Therefore, the result predicted by the t-test may not accurately reflect the salary comparison between these two locations."
   ]
  },
  {
   "cell_type": "code",
   "execution_count": 55,
   "id": "0bdab8e2",
   "metadata": {},
   "outputs": [
    {
     "data": {
      "image/png": "[encoded data removed]",
      "text/plain": [
       "<Figure size 640x480 with 1 Axes>"
      ]
     },
     "metadata": {},
     "output_type": "display_data"
    }
   ],
   "source": [
    "sns.distplot(x11,label='Bangalore',hist=False)\n",
    "sns.distplot(x12,label='Hyderabad',hist=False)\n",
    "plt.title('Salary distribution of Bangalore and Hyderabad')\n",
    "plt.legend()\n",
    "plt.show()"
   ]
  },
  {
   "cell_type": "markdown",
   "id": "80d7dfd5",
   "metadata": {},
   "source": [
    "Result: We accept the null hypothesis that Microsoft employees living in Hyderabad are paid more than those in Bangalore. Additionally, when n>30, the z-test is typically preferred."
   ]
  },
  {
   "cell_type": "markdown",
   "id": "a0c353cd",
   "metadata": {},
   "source": [
    "# Pearson's  Correlation Coefficient Matrix"
   ]
  },
  {
   "cell_type": "markdown",
   "id": "f7b71948",
   "metadata": {},
   "source": [
    "Here,in this dataframe we have only three features that are continuous namely:Salary,Rating and Salary reported.\n",
    "Lets find out the correlation coefficient matrices of three such combinations."
   ]
  },
  {
   "cell_type": "code",
   "execution_count": 56,
   "id": "7a98249c",
   "metadata": {},
   "outputs": [
    {
     "data": {
      "text/html": [
       "<style type=\"text/css\">\n",
       "#T_ae4b4_row0_col0, #T_ae4b4_row1_col1, #T_ae4b4_row2_col2 {\n",
       "  background-color: #023858;\n",
       "  color: #f1f1f1;\n",
       "}\n",
       "#T_ae4b4_row0_col1 {\n",
       "  background-color: #fcf4fa;\n",
       "  color: #000000;\n",
       "}\n",
       "#T_ae4b4_row0_col2, #T_ae4b4_row2_col0, #T_ae4b4_row2_col1 {\n",
       "  background-color: #fff7fb;\n",
       "  color: #000000;\n",
       "}\n",
       "#T_ae4b4_row1_col0 {\n",
       "  background-color: #faf2f8;\n",
       "  color: #000000;\n",
       "}\n",
       "#T_ae4b4_row1_col2 {\n",
       "  background-color: #fdf5fa;\n",
       "  color: #000000;\n",
       "}\n",
       "</style>\n",
       "<table id=\"T_ae4b4\">\n",
       "  <thead>\n",
       "    <tr>\n",
       "      <th class=\"blank level0\" >&nbsp;</th>\n",
       "      <th id=\"T_ae4b4_level0_col0\" class=\"col_heading level0 col0\" >Rating</th>\n",
       "      <th id=\"T_ae4b4_level0_col1\" class=\"col_heading level0 col1\" >Salary</th>\n",
       "      <th id=\"T_ae4b4_level0_col2\" class=\"col_heading level0 col2\" >Salaries Reported</th>\n",
       "    </tr>\n",
       "  </thead>\n",
       "  <tbody>\n",
       "    <tr>\n",
       "      <th id=\"T_ae4b4_level0_row0\" class=\"row_heading level0 row0\" >Rating</th>\n",
       "      <td id=\"T_ae4b4_row0_col0\" class=\"data row0 col0\" >1.000000</td>\n",
       "      <td id=\"T_ae4b4_row0_col1\" class=\"data row0 col1\" >0.026201</td>\n",
       "      <td id=\"T_ae4b4_row0_col2\" class=\"data row0 col2\" >-0.011708</td>\n",
       "    </tr>\n",
       "    <tr>\n",
       "      <th id=\"T_ae4b4_level0_row1\" class=\"row_heading level0 row1\" >Salary</th>\n",
       "      <td id=\"T_ae4b4_row1_col0\" class=\"data row1 col0\" >0.026201</td>\n",
       "      <td id=\"T_ae4b4_row1_col1\" class=\"data row1 col1\" >1.000000</td>\n",
       "      <td id=\"T_ae4b4_row1_col2\" class=\"data row1 col2\" >0.004632</td>\n",
       "    </tr>\n",
       "    <tr>\n",
       "      <th id=\"T_ae4b4_level0_row2\" class=\"row_heading level0 row2\" >Salaries Reported</th>\n",
       "      <td id=\"T_ae4b4_row2_col0\" class=\"data row2 col0\" >-0.011708</td>\n",
       "      <td id=\"T_ae4b4_row2_col1\" class=\"data row2 col1\" >0.004632</td>\n",
       "      <td id=\"T_ae4b4_row2_col2\" class=\"data row2 col2\" >1.000000</td>\n",
       "    </tr>\n",
       "  </tbody>\n",
       "</table>\n"
      ],
      "text/plain": [
       "<pandas.io.formats.style.Styler at 0x1512c8f3d50>"
      ]
     },
     "execution_count": 56,
     "metadata": {},
     "output_type": "execute_result"
    }
   ],
   "source": [
    "df[['Rating',\"Salary\",'Salaries Reported']].corr().style.background_gradient()"
   ]
  },
  {
   "cell_type": "markdown",
   "id": "3207e381",
   "metadata": {},
   "source": [
    "1)Salary vs Rating"
   ]
  },
  {
   "cell_type": "code",
   "execution_count": 57,
   "id": "8d79d3a1",
   "metadata": {},
   "outputs": [
    {
     "data": {
      "text/plain": [
       "array([[1.        , 0.04779641],\n",
       "       [0.04779641, 1.        ]])"
      ]
     },
     "execution_count": 57,
     "metadata": {},
     "output_type": "execute_result"
    }
   ],
   "source": [
    "np.corrcoef(np.log(df['Salary']),(np.log(df['Rating'])))"
   ]
  },
  {
   "cell_type": "code",
   "execution_count": 58,
   "id": "43ee40d4",
   "metadata": {},
   "outputs": [
    {
     "data": {
      "image/png": "[encoded data removed]",
      "text/plain": [
       "<Figure size 640x480 with 1 Axes>"
      ]
     },
     "metadata": {},
     "output_type": "display_data"
    }
   ],
   "source": [
    "plt.scatter(np.log(df['Rating']),(np.log(df['Salary'])))\n",
    "\n",
    "plt.xlabel('Rating')\n",
    "plt.ylabel('Salary')\n",
    "plt.title('Scatter plot of Salary vs Rating')\n",
    "plt.show()"
   ]
  },
  {
   "cell_type": "markdown",
   "id": "8341ca31",
   "metadata": {},
   "source": [
    "# Conclusion:\n",
    "## As,correlation coefficient is very low,thus it does not show any linear relationship.For,some region its linear up and others its linear down.In some regions it shows how the salary increases by keeping the rating constant and vice versa.Thus,in total there is no significant correlation"
   ]
  },
  {
   "cell_type": "code",
   "execution_count": 59,
   "id": "d37aaa48",
   "metadata": {},
   "outputs": [
    {
     "data": {
      "text/plain": [
       "array([[ 1.        , -0.01852447],\n",
       "       [-0.01852447,  1.        ]])"
      ]
     },
     "execution_count": 59,
     "metadata": {},
     "output_type": "execute_result"
    }
   ],
   "source": [
    "#2)Salary vs Salaries Reported\n",
    "np.corrcoef(np.log(df['Salary']),np.log(df['Salaries Reported']))"
   ]
  },
  {
   "cell_type": "code",
   "execution_count": 60,
   "id": "71bfdc26",
   "metadata": {},
   "outputs": [
    {
     "data": {
      "image/png": "[encoded data removed]",
      "text/plain": [
       "<Figure size 640x480 with 1 Axes>"
      ]
     },
     "metadata": {},
     "output_type": "display_data"
    }
   ],
   "source": [
    "plt.scatter(np.log(df['Salary']),(np.log(df['Salaries Reported'])))\n",
    "\n",
    "plt.xlabel('Salary')\n",
    "plt.ylabel('Salaries Reported')\n",
    "plt.title('Scatter plot of Salary vs Salaries Reported')\n",
    "plt.show()"
   ]
  },
  {
   "cell_type": "markdown",
   "id": "1e1dd8f4",
   "metadata": {},
   "source": [
    "# Conclusion \n",
    "## Here the Correlation Coefficient is negative but very small,so there is no linear behaviour between them.We can see at constant Salaries reported salaries increases and vice versa.This also supports the idea that they dont have much correlation."
   ]
  },
  {
   "cell_type": "code",
   "execution_count": 61,
   "id": "8b76d26e",
   "metadata": {},
   "outputs": [
    {
     "data": {
      "text/plain": [
       "array([[1.        , 0.02091221],\n",
       "       [0.02091221, 1.        ]])"
      ]
     },
     "execution_count": 61,
     "metadata": {},
     "output_type": "execute_result"
    }
   ],
   "source": [
    "#3)Rating vs Salaries Reported\n",
    "np.corrcoef(np.log(df['Rating']),np.log(df['Salaries Reported']))"
   ]
  },
  {
   "cell_type": "code",
   "execution_count": 62,
   "id": "8c67652b",
   "metadata": {},
   "outputs": [
    {
     "data": {
      "image/png": "[encoded data removed]",
      "text/plain": [
       "<Figure size 640x480 with 1 Axes>"
      ]
     },
     "metadata": {},
     "output_type": "display_data"
    }
   ],
   "source": [
    "plt.scatter(np.log(df['Rating']),(np.log(df['Salaries Reported'])))\n",
    "\n",
    "plt.xlabel('Rating')\n",
    "plt.ylabel('Salaries Reported')\n",
    "plt.title('Scatter plot of Rating vs Salaries Reported')\n",
    "plt.show()"
   ]
  },
  {
   "cell_type": "markdown",
   "id": "44380a20",
   "metadata": {},
   "source": [
    "# Conclusion \n",
    "## Here,the correlation is positive but very small,thus no linear trend is expected.This also reflected in the scatter plot,as when 'Rating' increases,'Salaries Reported' remains same and vice versa."
   ]
  },
  {
   "cell_type": "markdown",
   "id": "529b9e3d",
   "metadata": {},
   "source": [
    "# Location"
   ]
  },
  {
   "cell_type": "code",
   "execution_count": 63,
   "id": "69ed5f7e",
   "metadata": {},
   "outputs": [
    {
     "data": {
      "text/html": [
       "<div>\n",
       "<style scoped>\n",
       "    .dataframe tbody tr th:only-of-type {\n",
       "        vertical-align: middle;\n",
       "    }\n",
       "\n",
       "    .dataframe tbody tr th {\n",
       "        vertical-align: top;\n",
       "    }\n",
       "\n",
       "    .dataframe thead th {\n",
       "        text-align: right;\n",
       "    }\n",
       "</style>\n",
       "<table border=\"1\" class=\"dataframe\">\n",
       "  <thead>\n",
       "    <tr style=\"text-align: right;\">\n",
       "      <th></th>\n",
       "      <th>Salary</th>\n",
       "    </tr>\n",
       "  </thead>\n",
       "  <tbody>\n",
       "    <tr>\n",
       "      <th>count</th>\n",
       "      <td>8.227000e+03</td>\n",
       "    </tr>\n",
       "    <tr>\n",
       "      <th>mean</th>\n",
       "      <td>7.365826e+05</td>\n",
       "    </tr>\n",
       "    <tr>\n",
       "      <th>std</th>\n",
       "      <td>6.846221e+05</td>\n",
       "    </tr>\n",
       "    <tr>\n",
       "      <th>min</th>\n",
       "      <td>2.112000e+03</td>\n",
       "    </tr>\n",
       "    <tr>\n",
       "      <th>25%</th>\n",
       "      <td>3.000000e+05</td>\n",
       "    </tr>\n",
       "    <tr>\n",
       "      <th>50%</th>\n",
       "      <td>5.000000e+05</td>\n",
       "    </tr>\n",
       "    <tr>\n",
       "      <th>75%</th>\n",
       "      <td>1.000000e+06</td>\n",
       "    </tr>\n",
       "    <tr>\n",
       "      <th>max</th>\n",
       "      <td>1.000000e+07</td>\n",
       "    </tr>\n",
       "  </tbody>\n",
       "</table>\n",
       "</div>"
      ],
      "text/plain": [
       "             Salary\n",
       "count  8.227000e+03\n",
       "mean   7.365826e+05\n",
       "std    6.846221e+05\n",
       "min    2.112000e+03\n",
       "25%    3.000000e+05\n",
       "50%    5.000000e+05\n",
       "75%    1.000000e+06\n",
       "max    1.000000e+07"
      ]
     },
     "execution_count": 63,
     "metadata": {},
     "output_type": "execute_result"
    }
   ],
   "source": [
    "loc1=df[df['Location'].isin(['Bangalore'])].Salary.describe()\n",
    "pd.DataFrame(loc1)"
   ]
  },
  {
   "cell_type": "code",
   "execution_count": 64,
   "id": "5b813009",
   "metadata": {},
   "outputs": [
    {
     "data": {
      "text/html": [
       "<div>\n",
       "<style scoped>\n",
       "    .dataframe tbody tr th:only-of-type {\n",
       "        vertical-align: middle;\n",
       "    }\n",
       "\n",
       "    .dataframe tbody tr th {\n",
       "        vertical-align: top;\n",
       "    }\n",
       "\n",
       "    .dataframe thead th {\n",
       "        text-align: right;\n",
       "    }\n",
       "</style>\n",
       "<table border=\"1\" class=\"dataframe\">\n",
       "  <thead>\n",
       "    <tr style=\"text-align: right;\">\n",
       "      <th></th>\n",
       "      <th>Salary</th>\n",
       "    </tr>\n",
       "  </thead>\n",
       "  <tbody>\n",
       "    <tr>\n",
       "      <th>count</th>\n",
       "      <td>7.460000e+02</td>\n",
       "    </tr>\n",
       "    <tr>\n",
       "      <th>mean</th>\n",
       "      <td>9.616945e+05</td>\n",
       "    </tr>\n",
       "    <tr>\n",
       "      <th>std</th>\n",
       "      <td>8.456556e+05</td>\n",
       "    </tr>\n",
       "    <tr>\n",
       "      <th>min</th>\n",
       "      <td>1.200000e+04</td>\n",
       "    </tr>\n",
       "    <tr>\n",
       "      <th>25%</th>\n",
       "      <td>4.000000e+05</td>\n",
       "    </tr>\n",
       "    <tr>\n",
       "      <th>50%</th>\n",
       "      <td>7.040000e+05</td>\n",
       "    </tr>\n",
       "    <tr>\n",
       "      <th>75%</th>\n",
       "      <td>1.200000e+06</td>\n",
       "    </tr>\n",
       "    <tr>\n",
       "      <th>max</th>\n",
       "      <td>9.800000e+06</td>\n",
       "    </tr>\n",
       "  </tbody>\n",
       "</table>\n",
       "</div>"
      ],
      "text/plain": [
       "             Salary\n",
       "count  7.460000e+02\n",
       "mean   9.616945e+05\n",
       "std    8.456556e+05\n",
       "min    1.200000e+04\n",
       "25%    4.000000e+05\n",
       "50%    7.040000e+05\n",
       "75%    1.200000e+06\n",
       "max    9.800000e+06"
      ]
     },
     "execution_count": 64,
     "metadata": {},
     "output_type": "execute_result"
    }
   ],
   "source": [
    "loc2=df[df['Location'].isin(['Mumbai'])].Salary.describe()\n",
    "pd.DataFrame(loc2)"
   ]
  },
  {
   "cell_type": "code",
   "execution_count": 65,
   "id": "8a52ea4f",
   "metadata": {},
   "outputs": [
    {
     "data": {
      "text/html": [
       "<div>\n",
       "<style scoped>\n",
       "    .dataframe tbody tr th:only-of-type {\n",
       "        vertical-align: middle;\n",
       "    }\n",
       "\n",
       "    .dataframe tbody tr th {\n",
       "        vertical-align: top;\n",
       "    }\n",
       "\n",
       "    .dataframe thead th {\n",
       "        text-align: right;\n",
       "    }\n",
       "</style>\n",
       "<table border=\"1\" class=\"dataframe\">\n",
       "  <thead>\n",
       "    <tr style=\"text-align: right;\">\n",
       "      <th></th>\n",
       "      <th>Salary</th>\n",
       "    </tr>\n",
       "  </thead>\n",
       "  <tbody>\n",
       "    <tr>\n",
       "      <th>count</th>\n",
       "      <td>2.437000e+03</td>\n",
       "    </tr>\n",
       "    <tr>\n",
       "      <th>mean</th>\n",
       "      <td>5.871857e+05</td>\n",
       "    </tr>\n",
       "    <tr>\n",
       "      <th>std</th>\n",
       "      <td>5.450216e+05</td>\n",
       "    </tr>\n",
       "    <tr>\n",
       "      <th>min</th>\n",
       "      <td>1.200000e+04</td>\n",
       "    </tr>\n",
       "    <tr>\n",
       "      <th>25%</th>\n",
       "      <td>2.520000e+05</td>\n",
       "    </tr>\n",
       "    <tr>\n",
       "      <th>50%</th>\n",
       "      <td>4.000000e+05</td>\n",
       "    </tr>\n",
       "    <tr>\n",
       "      <th>75%</th>\n",
       "      <td>7.000000e+05</td>\n",
       "    </tr>\n",
       "    <tr>\n",
       "      <th>max</th>\n",
       "      <td>1.000000e+07</td>\n",
       "    </tr>\n",
       "  </tbody>\n",
       "</table>\n",
       "</div>"
      ],
      "text/plain": [
       "             Salary\n",
       "count  2.437000e+03\n",
       "mean   5.871857e+05\n",
       "std    5.450216e+05\n",
       "min    1.200000e+04\n",
       "25%    2.520000e+05\n",
       "50%    4.000000e+05\n",
       "75%    7.000000e+05\n",
       "max    1.000000e+07"
      ]
     },
     "execution_count": 65,
     "metadata": {},
     "output_type": "execute_result"
    }
   ],
   "source": [
    "loc3=df[df['Location'].isin(['Chennai'])].Salary.describe()\n",
    "pd.DataFrame(loc3)"
   ]
  },
  {
   "cell_type": "code",
   "execution_count": 66,
   "id": "79d0b5da",
   "metadata": {},
   "outputs": [
    {
     "data": {
      "text/html": [
       "<div>\n",
       "<style scoped>\n",
       "    .dataframe tbody tr th:only-of-type {\n",
       "        vertical-align: middle;\n",
       "    }\n",
       "\n",
       "    .dataframe tbody tr th {\n",
       "        vertical-align: top;\n",
       "    }\n",
       "\n",
       "    .dataframe thead th {\n",
       "        text-align: right;\n",
       "    }\n",
       "</style>\n",
       "<table border=\"1\" class=\"dataframe\">\n",
       "  <thead>\n",
       "    <tr style=\"text-align: right;\">\n",
       "      <th></th>\n",
       "      <th>Salary</th>\n",
       "    </tr>\n",
       "  </thead>\n",
       "  <tbody>\n",
       "    <tr>\n",
       "      <th>count</th>\n",
       "      <td>8.000000e+01</td>\n",
       "    </tr>\n",
       "    <tr>\n",
       "      <th>mean</th>\n",
       "      <td>6.347500e+05</td>\n",
       "    </tr>\n",
       "    <tr>\n",
       "      <th>std</th>\n",
       "      <td>4.758409e+05</td>\n",
       "    </tr>\n",
       "    <tr>\n",
       "      <th>min</th>\n",
       "      <td>3.600000e+04</td>\n",
       "    </tr>\n",
       "    <tr>\n",
       "      <th>25%</th>\n",
       "      <td>3.000000e+05</td>\n",
       "    </tr>\n",
       "    <tr>\n",
       "      <th>50%</th>\n",
       "      <td>5.000000e+05</td>\n",
       "    </tr>\n",
       "    <tr>\n",
       "      <th>75%</th>\n",
       "      <td>8.250000e+05</td>\n",
       "    </tr>\n",
       "    <tr>\n",
       "      <th>max</th>\n",
       "      <td>2.500000e+06</td>\n",
       "    </tr>\n",
       "  </tbody>\n",
       "</table>\n",
       "</div>"
      ],
      "text/plain": [
       "             Salary\n",
       "count  8.000000e+01\n",
       "mean   6.347500e+05\n",
       "std    4.758409e+05\n",
       "min    3.600000e+04\n",
       "25%    3.000000e+05\n",
       "50%    5.000000e+05\n",
       "75%    8.250000e+05\n",
       "max    2.500000e+06"
      ]
     },
     "execution_count": 66,
     "metadata": {},
     "output_type": "execute_result"
    }
   ],
   "source": [
    "loc4=df[df['Location'].isin(['Jaipur'])].Salary.describe()\n",
    "pd.DataFrame(loc4)"
   ]
  },
  {
   "cell_type": "markdown",
   "id": "c78874c6",
   "metadata": {},
   "source": [
    "# Region wise insights:\n",
    "\n",
    "## 1.Most of the developers live in bangalore and with median salary 5 LPA.\n",
    "## 2.Mumbai is the city with the largest median salary of 7 LPA.\n",
    "## 3.Jaipur is the place where the least developers live with the medain of 5 LPA.\n",
    "## 4.Chennai is the place with lowest median salary of 4 LPA."
   ]
  },
  {
   "cell_type": "markdown",
   "id": "e934a5d1",
   "metadata": {},
   "source": [
    "# Job Roles"
   ]
  },
  {
   "cell_type": "code",
   "execution_count": 67,
   "id": "13c6a91a",
   "metadata": {},
   "outputs": [
    {
     "data": {
      "text/html": [
       "<div>\n",
       "<style scoped>\n",
       "    .dataframe tbody tr th:only-of-type {\n",
       "        vertical-align: middle;\n",
       "    }\n",
       "\n",
       "    .dataframe tbody tr th {\n",
       "        vertical-align: top;\n",
       "    }\n",
       "\n",
       "    .dataframe thead th {\n",
       "        text-align: right;\n",
       "    }\n",
       "</style>\n",
       "<table border=\"1\" class=\"dataframe\">\n",
       "  <thead>\n",
       "    <tr style=\"text-align: right;\">\n",
       "      <th></th>\n",
       "      <th>Salary</th>\n",
       "    </tr>\n",
       "  </thead>\n",
       "  <tbody>\n",
       "    <tr>\n",
       "      <th>count</th>\n",
       "      <td>8.151000e+03</td>\n",
       "    </tr>\n",
       "    <tr>\n",
       "      <th>mean</th>\n",
       "      <td>8.551023e+05</td>\n",
       "    </tr>\n",
       "    <tr>\n",
       "      <th>std</th>\n",
       "      <td>1.234722e+06</td>\n",
       "    </tr>\n",
       "    <tr>\n",
       "      <th>min</th>\n",
       "      <td>1.200000e+04</td>\n",
       "    </tr>\n",
       "    <tr>\n",
       "      <th>25%</th>\n",
       "      <td>3.870000e+05</td>\n",
       "    </tr>\n",
       "    <tr>\n",
       "      <th>50%</th>\n",
       "      <td>6.720000e+05</td>\n",
       "    </tr>\n",
       "    <tr>\n",
       "      <th>75%</th>\n",
       "      <td>1.100000e+06</td>\n",
       "    </tr>\n",
       "    <tr>\n",
       "      <th>max</th>\n",
       "      <td>9.000000e+07</td>\n",
       "    </tr>\n",
       "  </tbody>\n",
       "</table>\n",
       "</div>"
      ],
      "text/plain": [
       "             Salary\n",
       "count  8.151000e+03\n",
       "mean   8.551023e+05\n",
       "std    1.234722e+06\n",
       "min    1.200000e+04\n",
       "25%    3.870000e+05\n",
       "50%    6.720000e+05\n",
       "75%    1.100000e+06\n",
       "max    9.000000e+07"
      ]
     },
     "execution_count": 67,
     "metadata": {},
     "output_type": "execute_result"
    }
   ],
   "source": [
    "job1=df[df['Job Roles'].isin(['SDE'])].Salary.describe()\n",
    "pd.DataFrame(job1)"
   ]
  },
  {
   "cell_type": "code",
   "execution_count": 68,
   "id": "f83a38a9",
   "metadata": {},
   "outputs": [
    {
     "data": {
      "image/png": "[encoded data removed]",
      "text/plain": [
       "<Figure size 1500x800 with 1 Axes>"
      ]
     },
     "metadata": {},
     "output_type": "display_data"
    }
   ],
   "source": [
    "plt.rcParams['figure.figsize'] = [15, 8]  \n",
    "sns.boxplot(x='Job Roles', y='Salary', data=DF)\n",
    "plt.title('Job Roles vs Salary')\n",
    "plt.show()"
   ]
  },
  {
   "cell_type": "code",
   "execution_count": 69,
   "id": "6ee0624e",
   "metadata": {},
   "outputs": [
    {
     "data": {
      "text/html": [
       "<div>\n",
       "<style scoped>\n",
       "    .dataframe tbody tr th:only-of-type {\n",
       "        vertical-align: middle;\n",
       "    }\n",
       "\n",
       "    .dataframe tbody tr th {\n",
       "        vertical-align: top;\n",
       "    }\n",
       "\n",
       "    .dataframe thead th {\n",
       "        text-align: right;\n",
       "    }\n",
       "</style>\n",
       "<table border=\"1\" class=\"dataframe\">\n",
       "  <thead>\n",
       "    <tr style=\"text-align: right;\">\n",
       "      <th></th>\n",
       "      <th>Salary</th>\n",
       "    </tr>\n",
       "  </thead>\n",
       "  <tbody>\n",
       "    <tr>\n",
       "      <th>count</th>\n",
       "      <td>8.630000e+02</td>\n",
       "    </tr>\n",
       "    <tr>\n",
       "      <th>mean</th>\n",
       "      <td>9.596468e+05</td>\n",
       "    </tr>\n",
       "    <tr>\n",
       "      <th>std</th>\n",
       "      <td>8.158439e+05</td>\n",
       "    </tr>\n",
       "    <tr>\n",
       "      <th>min</th>\n",
       "      <td>1.000000e+05</td>\n",
       "    </tr>\n",
       "    <tr>\n",
       "      <th>25%</th>\n",
       "      <td>5.000000e+05</td>\n",
       "    </tr>\n",
       "    <tr>\n",
       "      <th>50%</th>\n",
       "      <td>7.000000e+05</td>\n",
       "    </tr>\n",
       "    <tr>\n",
       "      <th>75%</th>\n",
       "      <td>1.200000e+06</td>\n",
       "    </tr>\n",
       "    <tr>\n",
       "      <th>max</th>\n",
       "      <td>1.000000e+07</td>\n",
       "    </tr>\n",
       "  </tbody>\n",
       "</table>\n",
       "</div>"
      ],
      "text/plain": [
       "             Salary\n",
       "count  8.630000e+02\n",
       "mean   9.596468e+05\n",
       "std    8.158439e+05\n",
       "min    1.000000e+05\n",
       "25%    5.000000e+05\n",
       "50%    7.000000e+05\n",
       "75%    1.200000e+06\n",
       "max    1.000000e+07"
      ]
     },
     "execution_count": 69,
     "metadata": {},
     "output_type": "execute_result"
    }
   ],
   "source": [
    "job2=df[df['Job Roles'].isin(['Database'])].Salary.describe()\n",
    "pd.DataFrame(job2)"
   ]
  },
  {
   "cell_type": "code",
   "execution_count": 70,
   "id": "00576e93",
   "metadata": {},
   "outputs": [
    {
     "data": {
      "text/html": [
       "<div>\n",
       "<style scoped>\n",
       "    .dataframe tbody tr th:only-of-type {\n",
       "        vertical-align: middle;\n",
       "    }\n",
       "\n",
       "    .dataframe tbody tr th {\n",
       "        vertical-align: top;\n",
       "    }\n",
       "\n",
       "    .dataframe thead th {\n",
       "        text-align: right;\n",
       "    }\n",
       "</style>\n",
       "<table border=\"1\" class=\"dataframe\">\n",
       "  <thead>\n",
       "    <tr style=\"text-align: right;\">\n",
       "      <th></th>\n",
       "      <th>Salary</th>\n",
       "    </tr>\n",
       "  </thead>\n",
       "  <tbody>\n",
       "    <tr>\n",
       "      <th>count</th>\n",
       "      <td>1.190000e+03</td>\n",
       "    </tr>\n",
       "    <tr>\n",
       "      <th>mean</th>\n",
       "      <td>7.494241e+05</td>\n",
       "    </tr>\n",
       "    <tr>\n",
       "      <th>std</th>\n",
       "      <td>7.286335e+05</td>\n",
       "    </tr>\n",
       "    <tr>\n",
       "      <th>min</th>\n",
       "      <td>2.400000e+04</td>\n",
       "    </tr>\n",
       "    <tr>\n",
       "      <th>25%</th>\n",
       "      <td>2.550000e+05</td>\n",
       "    </tr>\n",
       "    <tr>\n",
       "      <th>50%</th>\n",
       "      <td>5.000000e+05</td>\n",
       "    </tr>\n",
       "    <tr>\n",
       "      <th>75%</th>\n",
       "      <td>1.000000e+06</td>\n",
       "    </tr>\n",
       "    <tr>\n",
       "      <th>max</th>\n",
       "      <td>5.200000e+06</td>\n",
       "    </tr>\n",
       "  </tbody>\n",
       "</table>\n",
       "</div>"
      ],
      "text/plain": [
       "             Salary\n",
       "count  1.190000e+03\n",
       "mean   7.494241e+05\n",
       "std    7.286335e+05\n",
       "min    2.400000e+04\n",
       "25%    2.550000e+05\n",
       "50%    5.000000e+05\n",
       "75%    1.000000e+06\n",
       "max    5.200000e+06"
      ]
     },
     "execution_count": 70,
     "metadata": {},
     "output_type": "execute_result"
    }
   ],
   "source": [
    "job3=df[df['Job Roles'].isin(['Backend'])].Salary.describe()\n",
    "pd.DataFrame(job3)"
   ]
  },
  {
   "cell_type": "code",
   "execution_count": 71,
   "id": "e376a006",
   "metadata": {},
   "outputs": [
    {
     "data": {
      "text/html": [
       "<div>\n",
       "<style scoped>\n",
       "    .dataframe tbody tr th:only-of-type {\n",
       "        vertical-align: middle;\n",
       "    }\n",
       "\n",
       "    .dataframe tbody tr th {\n",
       "        vertical-align: top;\n",
       "    }\n",
       "\n",
       "    .dataframe thead th {\n",
       "        text-align: right;\n",
       "    }\n",
       "</style>\n",
       "<table border=\"1\" class=\"dataframe\">\n",
       "  <thead>\n",
       "    <tr style=\"text-align: right;\">\n",
       "      <th></th>\n",
       "      <th>Salary</th>\n",
       "    </tr>\n",
       "  </thead>\n",
       "  <tbody>\n",
       "    <tr>\n",
       "      <th>count</th>\n",
       "      <td>9.930000e+02</td>\n",
       "    </tr>\n",
       "    <tr>\n",
       "      <th>mean</th>\n",
       "      <td>4.164758e+05</td>\n",
       "    </tr>\n",
       "    <tr>\n",
       "      <th>std</th>\n",
       "      <td>3.598394e+05</td>\n",
       "    </tr>\n",
       "    <tr>\n",
       "      <th>min</th>\n",
       "      <td>2.112000e+03</td>\n",
       "    </tr>\n",
       "    <tr>\n",
       "      <th>25%</th>\n",
       "      <td>2.000000e+05</td>\n",
       "    </tr>\n",
       "    <tr>\n",
       "      <th>50%</th>\n",
       "      <td>3.000000e+05</td>\n",
       "    </tr>\n",
       "    <tr>\n",
       "      <th>75%</th>\n",
       "      <td>5.000000e+05</td>\n",
       "    </tr>\n",
       "    <tr>\n",
       "      <th>max</th>\n",
       "      <td>4.400000e+06</td>\n",
       "    </tr>\n",
       "  </tbody>\n",
       "</table>\n",
       "</div>"
      ],
      "text/plain": [
       "             Salary\n",
       "count  9.930000e+02\n",
       "mean   4.164758e+05\n",
       "std    3.598394e+05\n",
       "min    2.112000e+03\n",
       "25%    2.000000e+05\n",
       "50%    3.000000e+05\n",
       "75%    5.000000e+05\n",
       "max    4.400000e+06"
      ]
     },
     "execution_count": 71,
     "metadata": {},
     "output_type": "execute_result"
    }
   ],
   "source": [
    "job4=df[df['Job Roles'].isin(['Web'])].Salary.describe()\n",
    "pd.DataFrame(job4)"
   ]
  },
  {
   "cell_type": "code",
   "execution_count": 72,
   "id": "ad6b296b",
   "metadata": {},
   "outputs": [
    {
     "data": {
      "text/html": [
       "<div>\n",
       "<style scoped>\n",
       "    .dataframe tbody tr th:only-of-type {\n",
       "        vertical-align: middle;\n",
       "    }\n",
       "\n",
       "    .dataframe tbody tr th {\n",
       "        vertical-align: top;\n",
       "    }\n",
       "\n",
       "    .dataframe thead th {\n",
       "        text-align: right;\n",
       "    }\n",
       "</style>\n",
       "<table border=\"1\" class=\"dataframe\">\n",
       "  <thead>\n",
       "    <tr style=\"text-align: right;\">\n",
       "      <th></th>\n",
       "      <th>Salary</th>\n",
       "    </tr>\n",
       "  </thead>\n",
       "  <tbody>\n",
       "    <tr>\n",
       "      <th>count</th>\n",
       "      <td>9.220000e+02</td>\n",
       "    </tr>\n",
       "    <tr>\n",
       "      <th>mean</th>\n",
       "      <td>4.909930e+05</td>\n",
       "    </tr>\n",
       "    <tr>\n",
       "      <th>std</th>\n",
       "      <td>4.274532e+05</td>\n",
       "    </tr>\n",
       "    <tr>\n",
       "      <th>min</th>\n",
       "      <td>2.400000e+04</td>\n",
       "    </tr>\n",
       "    <tr>\n",
       "      <th>25%</th>\n",
       "      <td>2.400000e+05</td>\n",
       "    </tr>\n",
       "    <tr>\n",
       "      <th>50%</th>\n",
       "      <td>4.000000e+05</td>\n",
       "    </tr>\n",
       "    <tr>\n",
       "      <th>75%</th>\n",
       "      <td>6.000000e+05</td>\n",
       "    </tr>\n",
       "    <tr>\n",
       "      <th>max</th>\n",
       "      <td>6.900000e+06</td>\n",
       "    </tr>\n",
       "  </tbody>\n",
       "</table>\n",
       "</div>"
      ],
      "text/plain": [
       "             Salary\n",
       "count  9.220000e+02\n",
       "mean   4.909930e+05\n",
       "std    4.274532e+05\n",
       "min    2.400000e+04\n",
       "25%    2.400000e+05\n",
       "50%    4.000000e+05\n",
       "75%    6.000000e+05\n",
       "max    6.900000e+06"
      ]
     },
     "execution_count": 72,
     "metadata": {},
     "output_type": "execute_result"
    }
   ],
   "source": [
    "job5=df[df['Job Roles'].isin(['Python'])].Salary.describe()\n",
    "pd.DataFrame(job5)"
   ]
  },
  {
   "cell_type": "markdown",
   "id": "3fe6337c",
   "metadata": {},
   "source": [
    "# Job Roles insigths:\n",
    "## 1.Developers working on database have the highest median salary of 7 LPA,with the least variance.\n",
    "## 2.Most of the developers work as SDEs with the median salary of 6.7 LPA,which is also the second highest salary.\n",
    "## 3.Backend developers have quite spread Salary distrubution,this also the situation of Mobile developers.\n",
    "## 4.Web developers have the lowest median salary of 3 LPA."
   ]
  },
  {
   "cell_type": "markdown",
   "id": "1ca0ad9d",
   "metadata": {},
   "source": [
    "# Company "
   ]
  },
  {
   "cell_type": "code",
   "execution_count": 73,
   "id": "dc10d220",
   "metadata": {},
   "outputs": [
    {
     "data": {
      "text/html": [
       "<div>\n",
       "<style scoped>\n",
       "    .dataframe tbody tr th:only-of-type {\n",
       "        vertical-align: middle;\n",
       "    }\n",
       "\n",
       "    .dataframe tbody tr th {\n",
       "        vertical-align: top;\n",
       "    }\n",
       "\n",
       "    .dataframe thead th {\n",
       "        text-align: right;\n",
       "    }\n",
       "</style>\n",
       "<table border=\"1\" class=\"dataframe\">\n",
       "  <thead>\n",
       "    <tr style=\"text-align: right;\">\n",
       "      <th></th>\n",
       "      <th>Salary</th>\n",
       "    </tr>\n",
       "  </thead>\n",
       "  <tbody>\n",
       "    <tr>\n",
       "      <th>count</th>\n",
       "      <td>9.600000e+01</td>\n",
       "    </tr>\n",
       "    <tr>\n",
       "      <th>mean</th>\n",
       "      <td>1.444882e+06</td>\n",
       "    </tr>\n",
       "    <tr>\n",
       "      <th>std</th>\n",
       "      <td>9.745901e+05</td>\n",
       "    </tr>\n",
       "    <tr>\n",
       "      <th>min</th>\n",
       "      <td>1.200000e+04</td>\n",
       "    </tr>\n",
       "    <tr>\n",
       "      <th>25%</th>\n",
       "      <td>6.810000e+05</td>\n",
       "    </tr>\n",
       "    <tr>\n",
       "      <th>50%</th>\n",
       "      <td>1.200000e+06</td>\n",
       "    </tr>\n",
       "    <tr>\n",
       "      <th>75%</th>\n",
       "      <td>2.025000e+06</td>\n",
       "    </tr>\n",
       "    <tr>\n",
       "      <th>max</th>\n",
       "      <td>4.300000e+06</td>\n",
       "    </tr>\n",
       "  </tbody>\n",
       "</table>\n",
       "</div>"
      ],
      "text/plain": [
       "             Salary\n",
       "count  9.600000e+01\n",
       "mean   1.444882e+06\n",
       "std    9.745901e+05\n",
       "min    1.200000e+04\n",
       "25%    6.810000e+05\n",
       "50%    1.200000e+06\n",
       "75%    2.025000e+06\n",
       "max    4.300000e+06"
      ]
     },
     "execution_count": 73,
     "metadata": {},
     "output_type": "execute_result"
    }
   ],
   "source": [
    "com1=df[df['Company Name'].isin(['Microsoft'])].Salary.describe()\n",
    "pd.DataFrame(com1)"
   ]
  },
  {
   "cell_type": "code",
   "execution_count": 74,
   "id": "14593796",
   "metadata": {},
   "outputs": [
    {
     "data": {
      "text/html": [
       "<div>\n",
       "<style scoped>\n",
       "    .dataframe tbody tr th:only-of-type {\n",
       "        vertical-align: middle;\n",
       "    }\n",
       "\n",
       "    .dataframe tbody tr th {\n",
       "        vertical-align: top;\n",
       "    }\n",
       "\n",
       "    .dataframe thead th {\n",
       "        text-align: right;\n",
       "    }\n",
       "</style>\n",
       "<table border=\"1\" class=\"dataframe\">\n",
       "  <thead>\n",
       "    <tr style=\"text-align: right;\">\n",
       "      <th></th>\n",
       "      <th>Salary</th>\n",
       "    </tr>\n",
       "  </thead>\n",
       "  <tbody>\n",
       "    <tr>\n",
       "      <th>count</th>\n",
       "      <td>3.130000e+02</td>\n",
       "    </tr>\n",
       "    <tr>\n",
       "      <th>mean</th>\n",
       "      <td>5.023035e+05</td>\n",
       "    </tr>\n",
       "    <tr>\n",
       "      <th>std</th>\n",
       "      <td>5.457402e+05</td>\n",
       "    </tr>\n",
       "    <tr>\n",
       "      <th>min</th>\n",
       "      <td>2.400000e+04</td>\n",
       "    </tr>\n",
       "    <tr>\n",
       "      <th>25%</th>\n",
       "      <td>2.880000e+05</td>\n",
       "    </tr>\n",
       "    <tr>\n",
       "      <th>50%</th>\n",
       "      <td>4.000000e+05</td>\n",
       "    </tr>\n",
       "    <tr>\n",
       "      <th>75%</th>\n",
       "      <td>6.000000e+05</td>\n",
       "    </tr>\n",
       "    <tr>\n",
       "      <th>max</th>\n",
       "      <td>8.000000e+06</td>\n",
       "    </tr>\n",
       "  </tbody>\n",
       "</table>\n",
       "</div>"
      ],
      "text/plain": [
       "             Salary\n",
       "count  3.130000e+02\n",
       "mean   5.023035e+05\n",
       "std    5.457402e+05\n",
       "min    2.400000e+04\n",
       "25%    2.880000e+05\n",
       "50%    4.000000e+05\n",
       "75%    6.000000e+05\n",
       "max    8.000000e+06"
      ]
     },
     "execution_count": 74,
     "metadata": {},
     "output_type": "execute_result"
    }
   ],
   "source": [
    "com2=df[df['Company Name'].isin(['TCS'])].Salary.describe()\n",
    "pd.DataFrame(com2)"
   ]
  },
  {
   "cell_type": "code",
   "execution_count": 75,
   "id": "fa325ce3",
   "metadata": {},
   "outputs": [
    {
     "data": {
      "text/html": [
       "<div>\n",
       "<style scoped>\n",
       "    .dataframe tbody tr th:only-of-type {\n",
       "        vertical-align: middle;\n",
       "    }\n",
       "\n",
       "    .dataframe tbody tr th {\n",
       "        vertical-align: top;\n",
       "    }\n",
       "\n",
       "    .dataframe thead th {\n",
       "        text-align: right;\n",
       "    }\n",
       "</style>\n",
       "<table border=\"1\" class=\"dataframe\">\n",
       "  <thead>\n",
       "    <tr style=\"text-align: right;\">\n",
       "      <th></th>\n",
       "      <th>Salary</th>\n",
       "    </tr>\n",
       "  </thead>\n",
       "  <tbody>\n",
       "    <tr>\n",
       "      <th>count</th>\n",
       "      <td>8.500000e+01</td>\n",
       "    </tr>\n",
       "    <tr>\n",
       "      <th>mean</th>\n",
       "      <td>9.111531e+05</td>\n",
       "    </tr>\n",
       "    <tr>\n",
       "      <th>std</th>\n",
       "      <td>9.231722e+05</td>\n",
       "    </tr>\n",
       "    <tr>\n",
       "      <th>min</th>\n",
       "      <td>6.124800e+04</td>\n",
       "    </tr>\n",
       "    <tr>\n",
       "      <th>25%</th>\n",
       "      <td>2.880000e+05</td>\n",
       "    </tr>\n",
       "    <tr>\n",
       "      <th>50%</th>\n",
       "      <td>5.760000e+05</td>\n",
       "    </tr>\n",
       "    <tr>\n",
       "      <th>75%</th>\n",
       "      <td>1.200000e+06</td>\n",
       "    </tr>\n",
       "    <tr>\n",
       "      <th>max</th>\n",
       "      <td>5.100000e+06</td>\n",
       "    </tr>\n",
       "  </tbody>\n",
       "</table>\n",
       "</div>"
      ],
      "text/plain": [
       "             Salary\n",
       "count  8.500000e+01\n",
       "mean   9.111531e+05\n",
       "std    9.231722e+05\n",
       "min    6.124800e+04\n",
       "25%    2.880000e+05\n",
       "50%    5.760000e+05\n",
       "75%    1.200000e+06\n",
       "max    5.100000e+06"
      ]
     },
     "execution_count": 75,
     "metadata": {},
     "output_type": "execute_result"
    }
   ],
   "source": [
    "com3=df[df['Company Name'].isin(['Google'])].Salary.describe()\n",
    "pd.DataFrame(com3)"
   ]
  },
  {
   "cell_type": "code",
   "execution_count": 76,
   "id": "daccb75d",
   "metadata": {},
   "outputs": [
    {
     "data": {
      "text/html": [
       "<div>\n",
       "<style scoped>\n",
       "    .dataframe tbody tr th:only-of-type {\n",
       "        vertical-align: middle;\n",
       "    }\n",
       "\n",
       "    .dataframe tbody tr th {\n",
       "        vertical-align: top;\n",
       "    }\n",
       "\n",
       "    .dataframe thead th {\n",
       "        text-align: right;\n",
       "    }\n",
       "</style>\n",
       "<table border=\"1\" class=\"dataframe\">\n",
       "  <thead>\n",
       "    <tr style=\"text-align: right;\">\n",
       "      <th></th>\n",
       "      <th>Salary</th>\n",
       "    </tr>\n",
       "  </thead>\n",
       "  <tbody>\n",
       "    <tr>\n",
       "      <th>count</th>\n",
       "      <td>2.030000e+02</td>\n",
       "    </tr>\n",
       "    <tr>\n",
       "      <th>mean</th>\n",
       "      <td>1.189699e+06</td>\n",
       "    </tr>\n",
       "    <tr>\n",
       "      <th>std</th>\n",
       "      <td>1.187718e+06</td>\n",
       "    </tr>\n",
       "    <tr>\n",
       "      <th>min</th>\n",
       "      <td>3.379200e+04</td>\n",
       "    </tr>\n",
       "    <tr>\n",
       "      <th>25%</th>\n",
       "      <td>4.000000e+05</td>\n",
       "    </tr>\n",
       "    <tr>\n",
       "      <th>50%</th>\n",
       "      <td>9.600000e+05</td>\n",
       "    </tr>\n",
       "    <tr>\n",
       "      <th>75%</th>\n",
       "      <td>1.500000e+06</td>\n",
       "    </tr>\n",
       "    <tr>\n",
       "      <th>max</th>\n",
       "      <td>9.850000e+06</td>\n",
       "    </tr>\n",
       "  </tbody>\n",
       "</table>\n",
       "</div>"
      ],
      "text/plain": [
       "             Salary\n",
       "count  2.030000e+02\n",
       "mean   1.189699e+06\n",
       "std    1.187718e+06\n",
       "min    3.379200e+04\n",
       "25%    4.000000e+05\n",
       "50%    9.600000e+05\n",
       "75%    1.500000e+06\n",
       "max    9.850000e+06"
      ]
     },
     "execution_count": 76,
     "metadata": {},
     "output_type": "execute_result"
    }
   ],
   "source": [
    "com4=df[df['Company Name'].isin(['Amazon'])].Salary.describe()\n",
    "pd.DataFrame(com4)"
   ]
  },
  {
   "cell_type": "code",
   "execution_count": 79,
   "id": "497ed92c",
   "metadata": {},
   "outputs": [
    {
     "data": {
      "text/html": [
       "<div>\n",
       "<style scoped>\n",
       "    .dataframe tbody tr th:only-of-type {\n",
       "        vertical-align: middle;\n",
       "    }\n",
       "\n",
       "    .dataframe tbody tr th {\n",
       "        vertical-align: top;\n",
       "    }\n",
       "\n",
       "    .dataframe thead th {\n",
       "        text-align: right;\n",
       "    }\n",
       "</style>\n",
       "<table border=\"1\" class=\"dataframe\">\n",
       "  <thead>\n",
       "    <tr style=\"text-align: right;\">\n",
       "      <th></th>\n",
       "      <th>Salary</th>\n",
       "    </tr>\n",
       "  </thead>\n",
       "  <tbody>\n",
       "    <tr>\n",
       "      <th>count</th>\n",
       "      <td>1.010000e+02</td>\n",
       "    </tr>\n",
       "    <tr>\n",
       "      <th>mean</th>\n",
       "      <td>5.279010e+05</td>\n",
       "    </tr>\n",
       "    <tr>\n",
       "      <th>std</th>\n",
       "      <td>4.074538e+05</td>\n",
       "    </tr>\n",
       "    <tr>\n",
       "      <th>min</th>\n",
       "      <td>1.000000e+05</td>\n",
       "    </tr>\n",
       "    <tr>\n",
       "      <th>25%</th>\n",
       "      <td>3.000000e+05</td>\n",
       "    </tr>\n",
       "    <tr>\n",
       "      <th>50%</th>\n",
       "      <td>4.000000e+05</td>\n",
       "    </tr>\n",
       "    <tr>\n",
       "      <th>75%</th>\n",
       "      <td>6.000000e+05</td>\n",
       "    </tr>\n",
       "    <tr>\n",
       "      <th>max</th>\n",
       "      <td>2.200000e+06</td>\n",
       "    </tr>\n",
       "  </tbody>\n",
       "</table>\n",
       "</div>"
      ],
      "text/plain": [
       "             Salary\n",
       "count  1.010000e+02\n",
       "mean   5.279010e+05\n",
       "std    4.074538e+05\n",
       "min    1.000000e+05\n",
       "25%    3.000000e+05\n",
       "50%    4.000000e+05\n",
       "75%    6.000000e+05\n",
       "max    2.200000e+06"
      ]
     },
     "execution_count": 79,
     "metadata": {},
     "output_type": "execute_result"
    }
   ],
   "source": [
    "com4=df[df['Company Name'].isin(['Capgemini'])].Salary.describe()\n",
    "pd.DataFrame(com4)"
   ]
  },
  {
   "cell_type": "code",
   "execution_count": 100,
   "id": "9b9eb831",
   "metadata": {},
   "outputs": [
    {
     "data": {
      "text/plain": [
       "Index(['TCS', 'Infosys', 'Amazon', 'Cognizant', 'Accenture', 'IBM', 'HCL',\n",
       "       'Wipro', 'Capgemini', 'Microsoft', 'Google'],\n",
       "      dtype='object')"
      ]
     },
     "execution_count": 100,
     "metadata": {},
     "output_type": "execute_result"
    }
   ],
   "source": [
    "de.head(11).index"
   ]
  },
  {
   "cell_type": "code",
   "execution_count": 101,
   "id": "fc0c3202",
   "metadata": {},
   "outputs": [],
   "source": [
    "DFi=DF[DF['Company Name'].isin(de.head(11).index)]"
   ]
  },
  {
   "cell_type": "code",
   "execution_count": 102,
   "id": "a8ed0ee3",
   "metadata": {},
   "outputs": [
    {
     "data": {
      "text/plain": [
       "<Axes: xlabel='Company Name', ylabel='Salary'>"
      ]
     },
     "execution_count": 102,
     "metadata": {},
     "output_type": "execute_result"
    },
    {
     "data": {
      "image/png": "[encoded data removed]",
      "text/plain": [
       "<Figure size 1500x800 with 1 Axes>"
      ]
     },
     "metadata": {},
     "output_type": "display_data"
    }
   ],
   "source": [
    "sns.boxplot(x='Company Name',y='Salary',data=DFi)\n",
    "plt.title('Companies vs Salary')"
   ]
  },
  {
   "cell_type": "code",
   "execution_count": 103,
   "id": "046f4ce2",
   "metadata": {},
   "outputs": [
    {
     "data": {
      "text/plain": [
       "Text(0.5, 1.0, 'Companies vs Rating')"
      ]
     },
     "execution_count": 103,
     "metadata": {},
     "output_type": "execute_result"
    },
    {
     "data": {
      "image/png": "[encoded data removed]",
      "text/plain": [
       "<Figure size 1500x800 with 1 Axes>"
      ]
     },
     "metadata": {},
     "output_type": "display_data"
    }
   ],
   "source": [
    "sns.barplot(x='Company Name',y='Rating',data=DFi)\n",
    "plt.title('Companies vs Rating')"
   ]
  },
  {
   "cell_type": "markdown",
   "id": "59d6d189",
   "metadata": {},
   "source": [
    "\n",
    "# Company-Wise Insights:\n",
    "## 1.TCS has the highest number of employees, with a median salary of 4 LPA.\n",
    "## 2.Developers at Microsoft receive the highest median salary of 12 LPA, followed by those at Amazon and Google, with median salaries of 9.6 LPA and 5.8 LPA, respectively.\n",
    "## 3.Developers at TCS, Infosys, Wipro, and Capgemini have the lowest median salary of 4 LPA.\n",
    "## 4.Employees of Microsoft and Google have higher ratings compared to other companies, while Infosys employees have the lowest rating."
   ]
  },
  {
   "cell_type": "code",
   "execution_count": null,
   "id": "5c7e4d5f",
   "metadata": {},
   "outputs": [],
   "source": []
  },
  {
   "cell_type": "code",
   "execution_count": null,
   "id": "677dc388",
   "metadata": {},
   "outputs": [],
   "source": []
  }
 ],
 "metadata": {
  "kernelspec": {
   "display_name": "Python 3 (ipykernel)",
   "language": "python",
   "name": "python3"
  },
  "language_info": {
   "codemirror_mode": {
    "name": "ipython",
    "version": 3
   },
   "file_extension": ".py",
   "mimetype": "text/x-python",
   "name": "python",
   "nbconvert_exporter": "python",
   "pygments_lexer": "ipython3",
   "version": "3.11.5"
  }
 },
 "nbformat": 4,
 "nbformat_minor": 5
}
